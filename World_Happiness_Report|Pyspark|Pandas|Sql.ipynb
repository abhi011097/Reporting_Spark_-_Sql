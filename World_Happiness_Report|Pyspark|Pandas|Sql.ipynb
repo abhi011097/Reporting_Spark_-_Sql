{
 "cells": [
  {
   "cell_type": "markdown",
   "id": "f2364ba0-a404-4521-9ffc-49b2df271844",
   "metadata": {},
   "source": [
    "## Install Pyspark"
   ]
  },
  {
   "cell_type": "code",
   "execution_count": 1,
   "id": "dbfa4634-140e-4139-bc63-e9b7dfaa79e9",
   "metadata": {},
   "outputs": [],
   "source": [
    "# !pip install pyspark"
   ]
  },
  {
   "cell_type": "markdown",
   "id": "e86e4718-724d-4691-a145-e6c369e413e4",
   "metadata": {},
   "source": [
    "## Import required Library "
   ]
  },
  {
   "cell_type": "code",
   "execution_count": 2,
   "id": "daa6b69e-f88b-4fc1-9bdc-22e9ac741c07",
   "metadata": {},
   "outputs": [],
   "source": [
    "from pyspark.sql import SparkSession\n",
    "import numpy as np \n",
    "import pandas as pd \n",
    "import warnings\n",
    "from pyspark.sql import functions as F"
   ]
  },
  {
   "cell_type": "markdown",
   "id": "a8c7b6d0-02f2-4cc5-a47d-ef363013eb6b",
   "metadata": {},
   "source": [
    "## Configure Spark Session and Properties"
   ]
  },
  {
   "cell_type": "code",
   "execution_count": 3,
   "id": "d1a2f792-027c-4bbd-9103-4ba70ca3bc84",
   "metadata": {},
   "outputs": [
    {
     "name": "stderr",
     "output_type": "stream",
     "text": [
      "23/01/12 13:09:16 WARN Utils: Your hostname, Abhisheks-MacBook-Air.local resolves to a loopback address: 127.0.0.1; using 192.168.1.3 instead (on interface en0)\n",
      "23/01/12 13:09:16 WARN Utils: Set SPARK_LOCAL_IP if you need to bind to another address\n",
      "WARNING: An illegal reflective access operation has occurred\n",
      "WARNING: Illegal reflective access by org.apache.spark.unsafe.Platform (file:/Users/abhi011097/opt/anaconda3/lib/python3.9/site-packages/pyspark/jars/spark-unsafe_2.12-3.2.1.jar) to constructor java.nio.DirectByteBuffer(long,int)\n",
      "WARNING: Please consider reporting this to the maintainers of org.apache.spark.unsafe.Platform\n",
      "WARNING: Use --illegal-access=warn to enable warnings of further illegal reflective access operations\n",
      "WARNING: All illegal access operations will be denied in a future release\n",
      "Using Spark's default log4j profile: org/apache/spark/log4j-defaults.properties\n",
      "Setting default log level to \"WARN\".\n",
      "To adjust logging level use sc.setLogLevel(newLevel). For SparkR, use setLogLevel(newLevel).\n",
      "23/01/12 13:09:16 WARN NativeCodeLoader: Unable to load native-hadoop library for your platform... using builtin-java classes where applicable\n"
     ]
    }
   ],
   "source": [
    "%matplotlib inline\n",
    "warnings.filterwarnings(\"ignore\")\n",
    "\n",
    "spark = SparkSession.builder \\\n",
    "          .master(\"local[*]\") \\\n",
    "          .appName(\"Facts Analysis\") \\\n",
    "          .getOrCreate()\n",
    "\n",
    "spark.sparkContext.setLogLevel(\"ERROR\")"
   ]
  },
  {
   "cell_type": "code",
   "execution_count": 4,
   "id": "1698125f-c32e-40e9-b656-4aacdd3b7ad3",
   "metadata": {},
   "outputs": [
    {
     "data": {
      "text/html": [
       "\n",
       "            <div>\n",
       "                <p><b>SparkSession - in-memory</b></p>\n",
       "                \n",
       "        <div>\n",
       "            <p><b>SparkContext</b></p>\n",
       "\n",
       "            <p><a href=\"http://192.168.1.3:4040\">Spark UI</a></p>\n",
       "\n",
       "            <dl>\n",
       "              <dt>Version</dt>\n",
       "                <dd><code>v3.2.1</code></dd>\n",
       "              <dt>Master</dt>\n",
       "                <dd><code>local[*]</code></dd>\n",
       "              <dt>AppName</dt>\n",
       "                <dd><code>Facts Analysis</code></dd>\n",
       "            </dl>\n",
       "        </div>\n",
       "        \n",
       "            </div>\n",
       "        "
      ],
      "text/plain": [
       "<pyspark.sql.session.SparkSession at 0x7f7dfa1ac130>"
      ]
     },
     "execution_count": 4,
     "metadata": {},
     "output_type": "execute_result"
    }
   ],
   "source": [
    "spark"
   ]
  },
  {
   "cell_type": "markdown",
   "id": "8a48e0e4-69a4-49bb-9f23-a1c12e33ff42",
   "metadata": {
    "tags": []
   },
   "source": [
    "## Prepare Data"
   ]
  },
  {
   "cell_type": "markdown",
   "id": "c99997a1-bc06-427b-a5f8-ec2f1b9f81ac",
   "metadata": {},
   "source": [
    "### Creating Pandas Dataframe"
   ]
  },
  {
   "cell_type": "code",
   "execution_count": 5,
   "id": "0eb5904a-3cf4-4355-bcd4-acd5c09d03ae",
   "metadata": {},
   "outputs": [],
   "source": [
    "#pandas_df_15=pd.read_csv(\"/kaggle/input/world-happiness/2015.csv\")\n",
    "#pandas_df_16=pd.read_csv(\"/kaggle/input/world-happiness/2016.csv\")\n",
    "#pandas_df_17=pd.read_csv(\"/kaggle/input/world-happiness/2017.csv\")\n",
    "#pandas_df_18=pd.read_csv(\"/kaggle/input/world-happiness/2018.csv\")\n",
    "#pandas_df_19=pd.read_csv(\"/kaggle/input/world-happiness/2019.csv\")"
   ]
  },
  {
   "cell_type": "code",
   "execution_count": 6,
   "id": "3899e09e-c75b-4902-9e38-1ec06ca97f35",
   "metadata": {},
   "outputs": [],
   "source": [
    "pandas_df_15=pd.read_csv(\"/Users/abhi011097/Workspace/Dataset_Analysis/4_World_Happiness_Report/Dataset/2015.csv\")\n",
    "pandas_df_16=pd.read_csv(\"/Users/abhi011097/Workspace/Dataset_Analysis/4_World_Happiness_Report/Dataset/2016.csv\")\n",
    "pandas_df_17=pd.read_csv(\"/Users/abhi011097/Workspace/Dataset_Analysis/4_World_Happiness_Report/Dataset/2017.csv\")\n",
    "pandas_df_18=pd.read_csv(\"/Users/abhi011097/Workspace/Dataset_Analysis/4_World_Happiness_Report/Dataset/2018.csv\")\n",
    "pandas_df_19=pd.read_csv(\"/Users/abhi011097/Workspace/Dataset_Analysis/4_World_Happiness_Report/Dataset/2019.csv\")"
   ]
  },
  {
   "cell_type": "markdown",
   "id": "3b71e4d4-cffe-449d-a36b-380182698d93",
   "metadata": {},
   "source": [
    "### Creating Spark Dataframe"
   ]
  },
  {
   "cell_type": "code",
   "execution_count": 7,
   "id": "0154c5e5-f58e-48c4-898a-3b00f9dd0701",
   "metadata": {},
   "outputs": [],
   "source": [
    "spark_df_15=spark.createDataFrame(pandas_df_15)\n",
    "spark_df_16=spark.createDataFrame(pandas_df_16)\n",
    "spark_df_17=spark.createDataFrame(pandas_df_17)\n",
    "spark_df_18=spark.createDataFrame(pandas_df_18)\n",
    "spark_df_19=spark.createDataFrame(pandas_df_19)"
   ]
  },
  {
   "cell_type": "markdown",
   "id": "76c11e6d-3aa2-462f-b49c-4ae45faf7ed9",
   "metadata": {},
   "source": [
    "### Creating Spark Table "
   ]
  },
  {
   "cell_type": "code",
   "execution_count": 8,
   "id": "1af7b582-eaaa-4672-a65a-bbe13eb74a13",
   "metadata": {},
   "outputs": [],
   "source": [
    "spark_df_15.registerTempTable(\"spark_tbl_15\")\n",
    "spark_df_16.registerTempTable(\"spark_tbl_16\")\n",
    "spark_df_17.registerTempTable(\"spark_tbl_17\")\n",
    "spark_df_18.registerTempTable(\"spark_tbl_18\")\n",
    "spark_df_19.registerTempTable(\"spark_tbl_19\")"
   ]
  },
  {
   "cell_type": "markdown",
   "id": "5f8164ea-9df2-493e-be79-c05fa0e60065",
   "metadata": {},
   "source": [
    "### Check Column Names"
   ]
  },
  {
   "cell_type": "code",
   "execution_count": 9,
   "id": "6add66a2-e746-487d-9261-a6e36ba37f83",
   "metadata": {},
   "outputs": [
    {
     "name": "stdout",
     "output_type": "stream",
     "text": [
      "pandas_df_15 ->  ['Country', 'Region', 'Happiness Rank', 'Happiness Score', 'Standard Error', 'Economy (GDP per Capita)', 'Family', 'Health (Life Expectancy)', 'Freedom', 'Trust (Government Corruption)', 'Generosity', 'Dystopia Residual']\n",
      "pandas_df_16 ->  ['Country', 'Region', 'Happiness Rank', 'Happiness Score', 'Lower Confidence Interval', 'Upper Confidence Interval', 'Economy (GDP per Capita)', 'Family', 'Health (Life Expectancy)', 'Freedom', 'Trust (Government Corruption)', 'Generosity', 'Dystopia Residual']\n",
      "pandas_df_17 ->  ['Country', 'Happiness.Rank', 'Happiness.Score', 'Whisker.high', 'Whisker.low', 'Economy..GDP.per.Capita.', 'Family', 'Health..Life.Expectancy.', 'Freedom', 'Generosity', 'Trust..Government.Corruption.', 'Dystopia.Residual']\n",
      "pandas_df_18 ->  ['Overall rank', 'Country or region', 'Score', 'GDP per capita', 'Social support', 'Healthy life expectancy', 'Freedom to make life choices', 'Generosity', 'Perceptions of corruption']\n",
      "pandas_df_19 ->  ['Overall rank', 'Country or region', 'Score', 'GDP per capita', 'Social support', 'Healthy life expectancy', 'Freedom to make life choices', 'Generosity', 'Perceptions of corruption']\n"
     ]
    }
   ],
   "source": [
    "print(\"pandas_df_15 -> \",pandas_df_15.columns.to_list())\n",
    "print(\"pandas_df_16 -> \",pandas_df_16.columns.to_list())\n",
    "print(\"pandas_df_17 -> \",pandas_df_17.columns.to_list())\n",
    "print(\"pandas_df_18 -> \",pandas_df_18.columns.to_list())\n",
    "print(\"pandas_df_19 -> \",pandas_df_19.columns.to_list())"
   ]
  },
  {
   "cell_type": "markdown",
   "id": "af0e4777-3a2e-46a1-9a8f-3352b83777bd",
   "metadata": {
    "tags": []
   },
   "source": [
    "## Validating Data load "
   ]
  },
  {
   "cell_type": "code",
   "execution_count": 10,
   "id": "60eaa5bd-6bf1-4b15-bc3c-7cab629a9dca",
   "metadata": {},
   "outputs": [
    {
     "data": {
      "text/html": [
       "<div>\n",
       "<style scoped>\n",
       "    .dataframe tbody tr th:only-of-type {\n",
       "        vertical-align: middle;\n",
       "    }\n",
       "\n",
       "    .dataframe tbody tr th {\n",
       "        vertical-align: top;\n",
       "    }\n",
       "\n",
       "    .dataframe thead th {\n",
       "        text-align: right;\n",
       "    }\n",
       "</style>\n",
       "<table border=\"1\" class=\"dataframe\">\n",
       "  <thead>\n",
       "    <tr style=\"text-align: right;\">\n",
       "      <th></th>\n",
       "      <th>Country</th>\n",
       "      <th>Region</th>\n",
       "      <th>Happiness Rank</th>\n",
       "      <th>Happiness Score</th>\n",
       "      <th>Standard Error</th>\n",
       "      <th>Economy (GDP per Capita)</th>\n",
       "      <th>Family</th>\n",
       "      <th>Health (Life Expectancy)</th>\n",
       "      <th>Freedom</th>\n",
       "      <th>Trust (Government Corruption)</th>\n",
       "      <th>Generosity</th>\n",
       "      <th>Dystopia Residual</th>\n",
       "    </tr>\n",
       "  </thead>\n",
       "  <tbody>\n",
       "    <tr>\n",
       "      <th>0</th>\n",
       "      <td>Switzerland</td>\n",
       "      <td>Western Europe</td>\n",
       "      <td>1</td>\n",
       "      <td>7.587</td>\n",
       "      <td>0.03411</td>\n",
       "      <td>1.39651</td>\n",
       "      <td>1.34951</td>\n",
       "      <td>0.94143</td>\n",
       "      <td>0.66557</td>\n",
       "      <td>0.41978</td>\n",
       "      <td>0.29678</td>\n",
       "      <td>2.51738</td>\n",
       "    </tr>\n",
       "    <tr>\n",
       "      <th>1</th>\n",
       "      <td>Iceland</td>\n",
       "      <td>Western Europe</td>\n",
       "      <td>2</td>\n",
       "      <td>7.561</td>\n",
       "      <td>0.04884</td>\n",
       "      <td>1.30232</td>\n",
       "      <td>1.40223</td>\n",
       "      <td>0.94784</td>\n",
       "      <td>0.62877</td>\n",
       "      <td>0.14145</td>\n",
       "      <td>0.43630</td>\n",
       "      <td>2.70201</td>\n",
       "    </tr>\n",
       "  </tbody>\n",
       "</table>\n",
       "</div>"
      ],
      "text/plain": [
       "       Country          Region  Happiness Rank  Happiness Score  \\\n",
       "0  Switzerland  Western Europe               1            7.587   \n",
       "1      Iceland  Western Europe               2            7.561   \n",
       "\n",
       "   Standard Error  Economy (GDP per Capita)   Family  \\\n",
       "0         0.03411                   1.39651  1.34951   \n",
       "1         0.04884                   1.30232  1.40223   \n",
       "\n",
       "   Health (Life Expectancy)  Freedom  Trust (Government Corruption)  \\\n",
       "0                   0.94143  0.66557                        0.41978   \n",
       "1                   0.94784  0.62877                        0.14145   \n",
       "\n",
       "   Generosity  Dystopia Residual  \n",
       "0     0.29678            2.51738  \n",
       "1     0.43630            2.70201  "
      ]
     },
     "execution_count": 10,
     "metadata": {},
     "output_type": "execute_result"
    }
   ],
   "source": [
    "pandas_df_15.head(2)"
   ]
  },
  {
   "cell_type": "code",
   "execution_count": 11,
   "id": "729147b4-868e-4a23-9c06-16cc853922af",
   "metadata": {},
   "outputs": [
    {
     "name": "stderr",
     "output_type": "stream",
     "text": [
      "[Stage 0:>                                                          (0 + 1) / 1]\r"
     ]
    },
    {
     "name": "stdout",
     "output_type": "stream",
     "text": [
      "+-----------+--------------+--------------+---------------+--------------+------------------------+-------+------------------------+-------+-----------------------------+----------+-----------------+\n",
      "|    Country|        Region|Happiness Rank|Happiness Score|Standard Error|Economy (GDP per Capita)| Family|Health (Life Expectancy)|Freedom|Trust (Government Corruption)|Generosity|Dystopia Residual|\n",
      "+-----------+--------------+--------------+---------------+--------------+------------------------+-------+------------------------+-------+-----------------------------+----------+-----------------+\n",
      "|Switzerland|Western Europe|             1|          7.587|       0.03411|                 1.39651|1.34951|                 0.94143|0.66557|                      0.41978|   0.29678|          2.51738|\n",
      "|    Iceland|Western Europe|             2|          7.561|       0.04884|                 1.30232|1.40223|                 0.94784|0.62877|                      0.14145|    0.4363|          2.70201|\n",
      "+-----------+--------------+--------------+---------------+--------------+------------------------+-------+------------------------+-------+-----------------------------+----------+-----------------+\n",
      "only showing top 2 rows\n",
      "\n"
     ]
    },
    {
     "name": "stderr",
     "output_type": "stream",
     "text": [
      "                                                                                \r"
     ]
    }
   ],
   "source": [
    "spark_df_15.show(2)"
   ]
  },
  {
   "cell_type": "code",
   "execution_count": 12,
   "id": "399d2b76-e981-46ea-bf6c-47d9fef57f7c",
   "metadata": {},
   "outputs": [
    {
     "name": "stdout",
     "output_type": "stream",
     "text": [
      "+-----------+--------------+--------------+---------------+--------------+------------------------+-------+------------------------+-------+-----------------------------+----------+-----------------+\n",
      "|    Country|        Region|Happiness Rank|Happiness Score|Standard Error|Economy (GDP per Capita)| Family|Health (Life Expectancy)|Freedom|Trust (Government Corruption)|Generosity|Dystopia Residual|\n",
      "+-----------+--------------+--------------+---------------+--------------+------------------------+-------+------------------------+-------+-----------------------------+----------+-----------------+\n",
      "|Switzerland|Western Europe|             1|          7.587|       0.03411|                 1.39651|1.34951|                 0.94143|0.66557|                      0.41978|   0.29678|          2.51738|\n",
      "|    Iceland|Western Europe|             2|          7.561|       0.04884|                 1.30232|1.40223|                 0.94784|0.62877|                      0.14145|    0.4363|          2.70201|\n",
      "+-----------+--------------+--------------+---------------+--------------+------------------------+-------+------------------------+-------+-----------------------------+----------+-----------------+\n",
      "\n"
     ]
    }
   ],
   "source": [
    "spark.sql(\"Select * from spark_tbl_15 limit 2\").show(2)"
   ]
  },
  {
   "cell_type": "markdown",
   "id": "d4c7e75f-ebfd-4057-bd0f-a4adc7642e10",
   "metadata": {
    "tags": []
   },
   "source": [
    "## Facts"
   ]
  },
  {
   "cell_type": "markdown",
   "id": "3cd8b1dd-bcf2-4491-b486-a5cae04eaa86",
   "metadata": {
    "tags": []
   },
   "source": [
    "### Find the countries which never observed a drop in rank along with year wise rank and diffence of rank from 2015 to 2019 \n",
    "* Sort the data by biggest to lowest change between 2015 to 2019"
   ]
  },
  {
   "cell_type": "markdown",
   "id": "294ce74c-d591-4900-acf9-8ba03fac780c",
   "metadata": {},
   "source": [
    "#### Using Spark Sql"
   ]
  },
  {
   "cell_type": "code",
   "execution_count": 13,
   "id": "764d3897-bf3f-4215-af05-dfd612b94e56",
   "metadata": {},
   "outputs": [
    {
     "name": "stderr",
     "output_type": "stream",
     "text": [
      "                                                                                \r"
     ]
    },
    {
     "name": "stdout",
     "output_type": "stream",
     "text": [
      "+-------------------+---------+---------+---------+---------+---------+----------------+\n",
      "|            Country|Rank_2015|Rank_2016|Rank_2017|Rank_2018|Rank_2019|Increment_Factor|\n",
      "+-------------------+---------+---------+---------+---------+---------+----------------+\n",
      "|              Benin|      155|      153|      143|      136|      102|              53|\n",
      "|        Ivory Coast|      151|      139|      128|      107|       99|              52|\n",
      "|           Honduras|      105|      104|       91|       72|       59|              46|\n",
      "|            Hungary|      104|       91|       75|       69|       62|              42|\n",
      "|            Romania|       86|       71|       57|       52|       48|              38|\n",
      "|       Burkina Faso|      152|      145|      134|      121|      115|              37|\n",
      "|           Cameroon|      133|      114|      107|       99|       96|              37|\n",
      "|           Bulgaria|      134|      129|      105|      100|       97|              37|\n",
      "|Congo (Brazzaville)|      139|      127|      124|      114|      103|              36|\n",
      "|           Cambodia|      145|      140|      129|      120|      109|              36|\n",
      "|             Latvia|       89|       68|       54|       53|       53|              36|\n",
      "|         Tajikistan|      106|      100|       96|       88|       74|              32|\n",
      "|              Niger|      144|      142|      135|      134|      114|              30|\n",
      "| Dominican Republic|       98|       89|       86|       83|       77|              21|\n",
      "|        Philippines|       90|       82|       72|       71|       69|              21|\n",
      "|             Poland|       60|       57|       46|       42|       40|              20|\n",
      "|               Togo|      158|      155|      150|      139|      139|              19|\n",
      "|            Estonia|       73|       72|       66|       63|       55|              18|\n",
      "|              Malta|       37|       30|       27|       22|       22|              15|\n",
      "|              Italy|       50|       50|       48|       47|       36|              14|\n",
      "|     Czech Republic|       31|       27|       23|       21|       20|              11|\n",
      "|              Syria|      156|      156|      152|      150|      149|               7|\n",
      "|           Slovakia|       45|       45|       40|       39|       38|               7|\n",
      "|            Finland|        6|        5|        5|        1|        1|               5|\n",
      "|        Netherlands|        7|        7|        6|        6|        5|               2|\n",
      "|        New Zealand|        9|        8|        8|        8|        8|               1|\n",
      "+-------------------+---------+---------+---------+---------+---------+----------------+\n",
      "\n"
     ]
    }
   ],
   "source": [
    "spark.sql(\"\"\"Select t1.Country ,t1.`Happiness Rank` as Rank_2015,t2.`Happiness Rank` Rank_2016,t3.`Happiness.Rank`  Rank_2017, \n",
    "            t4.`Overall rank` Rank_2018 ,t5.`Overall rank` Rank_2019,\n",
    "            (t1.`Happiness Rank`-t5.`Overall rank`) Increment_Factor\n",
    "            from  spark_tbl_15  t1\n",
    "            inner join spark_tbl_16 t2\n",
    "            on t1.Country = t2.Country and t1.`Happiness Rank` >= t2.`Happiness Rank`\n",
    "            inner join spark_tbl_17 t3\n",
    "            on t1.Country = t3.Country and t2.`Happiness Rank` >= t3.`Happiness.Rank`\n",
    "            inner join spark_tbl_18 t4\n",
    "            on t1.Country = t4.`Country or region` and t3.`Happiness.Rank` >= t4.`Overall rank`\n",
    "            inner join spark_tbl_19 t5\n",
    "            on t1.Country = t5.`Country or region` and t4.`Overall rank` >= t5.`Overall rank`\n",
    "            order by Increment_Factor desc\n",
    "          \n",
    "          \"\"\").show(200)"
   ]
  },
  {
   "cell_type": "markdown",
   "id": "4368e350-8bd2-4d35-9e1f-ccccafe48702",
   "metadata": {},
   "source": [
    "#### Using Pandas"
   ]
  },
  {
   "cell_type": "code",
   "execution_count": 14,
   "id": "82afee45-342f-4ebc-9779-89a3672e5b11",
   "metadata": {},
   "outputs": [
    {
     "data": {
      "text/html": [
       "<style type=\"text/css\">\n",
       "</style>\n",
       "<table id=\"T_9204f\">\n",
       "  <thead>\n",
       "    <tr>\n",
       "      <th id=\"T_9204f_level0_col0\" class=\"col_heading level0 col0\" >Country</th>\n",
       "      <th id=\"T_9204f_level0_col1\" class=\"col_heading level0 col1\" >Rank_2015</th>\n",
       "      <th id=\"T_9204f_level0_col2\" class=\"col_heading level0 col2\" >Rank_2016</th>\n",
       "      <th id=\"T_9204f_level0_col3\" class=\"col_heading level0 col3\" >Rank_2017</th>\n",
       "      <th id=\"T_9204f_level0_col4\" class=\"col_heading level0 col4\" >Rank_2018</th>\n",
       "      <th id=\"T_9204f_level0_col5\" class=\"col_heading level0 col5\" >Rank_2019</th>\n",
       "      <th id=\"T_9204f_level0_col6\" class=\"col_heading level0 col6\" >Increment_Factor</th>\n",
       "    </tr>\n",
       "  </thead>\n",
       "  <tbody>\n",
       "    <tr>\n",
       "      <td id=\"T_9204f_row0_col0\" class=\"data row0 col0\" >Benin</td>\n",
       "      <td id=\"T_9204f_row0_col1\" class=\"data row0 col1\" >155</td>\n",
       "      <td id=\"T_9204f_row0_col2\" class=\"data row0 col2\" >153</td>\n",
       "      <td id=\"T_9204f_row0_col3\" class=\"data row0 col3\" >143</td>\n",
       "      <td id=\"T_9204f_row0_col4\" class=\"data row0 col4\" >136</td>\n",
       "      <td id=\"T_9204f_row0_col5\" class=\"data row0 col5\" >102</td>\n",
       "      <td id=\"T_9204f_row0_col6\" class=\"data row0 col6\" >53</td>\n",
       "    </tr>\n",
       "    <tr>\n",
       "      <td id=\"T_9204f_row1_col0\" class=\"data row1 col0\" >Ivory Coast</td>\n",
       "      <td id=\"T_9204f_row1_col1\" class=\"data row1 col1\" >151</td>\n",
       "      <td id=\"T_9204f_row1_col2\" class=\"data row1 col2\" >139</td>\n",
       "      <td id=\"T_9204f_row1_col3\" class=\"data row1 col3\" >128</td>\n",
       "      <td id=\"T_9204f_row1_col4\" class=\"data row1 col4\" >107</td>\n",
       "      <td id=\"T_9204f_row1_col5\" class=\"data row1 col5\" >99</td>\n",
       "      <td id=\"T_9204f_row1_col6\" class=\"data row1 col6\" >52</td>\n",
       "    </tr>\n",
       "    <tr>\n",
       "      <td id=\"T_9204f_row2_col0\" class=\"data row2 col0\" >Honduras</td>\n",
       "      <td id=\"T_9204f_row2_col1\" class=\"data row2 col1\" >105</td>\n",
       "      <td id=\"T_9204f_row2_col2\" class=\"data row2 col2\" >104</td>\n",
       "      <td id=\"T_9204f_row2_col3\" class=\"data row2 col3\" >91</td>\n",
       "      <td id=\"T_9204f_row2_col4\" class=\"data row2 col4\" >72</td>\n",
       "      <td id=\"T_9204f_row2_col5\" class=\"data row2 col5\" >59</td>\n",
       "      <td id=\"T_9204f_row2_col6\" class=\"data row2 col6\" >46</td>\n",
       "    </tr>\n",
       "    <tr>\n",
       "      <td id=\"T_9204f_row3_col0\" class=\"data row3 col0\" >Hungary</td>\n",
       "      <td id=\"T_9204f_row3_col1\" class=\"data row3 col1\" >104</td>\n",
       "      <td id=\"T_9204f_row3_col2\" class=\"data row3 col2\" >91</td>\n",
       "      <td id=\"T_9204f_row3_col3\" class=\"data row3 col3\" >75</td>\n",
       "      <td id=\"T_9204f_row3_col4\" class=\"data row3 col4\" >69</td>\n",
       "      <td id=\"T_9204f_row3_col5\" class=\"data row3 col5\" >62</td>\n",
       "      <td id=\"T_9204f_row3_col6\" class=\"data row3 col6\" >42</td>\n",
       "    </tr>\n",
       "    <tr>\n",
       "      <td id=\"T_9204f_row4_col0\" class=\"data row4 col0\" >Romania</td>\n",
       "      <td id=\"T_9204f_row4_col1\" class=\"data row4 col1\" >86</td>\n",
       "      <td id=\"T_9204f_row4_col2\" class=\"data row4 col2\" >71</td>\n",
       "      <td id=\"T_9204f_row4_col3\" class=\"data row4 col3\" >57</td>\n",
       "      <td id=\"T_9204f_row4_col4\" class=\"data row4 col4\" >52</td>\n",
       "      <td id=\"T_9204f_row4_col5\" class=\"data row4 col5\" >48</td>\n",
       "      <td id=\"T_9204f_row4_col6\" class=\"data row4 col6\" >38</td>\n",
       "    </tr>\n",
       "    <tr>\n",
       "      <td id=\"T_9204f_row5_col0\" class=\"data row5 col0\" >Cameroon</td>\n",
       "      <td id=\"T_9204f_row5_col1\" class=\"data row5 col1\" >133</td>\n",
       "      <td id=\"T_9204f_row5_col2\" class=\"data row5 col2\" >114</td>\n",
       "      <td id=\"T_9204f_row5_col3\" class=\"data row5 col3\" >107</td>\n",
       "      <td id=\"T_9204f_row5_col4\" class=\"data row5 col4\" >99</td>\n",
       "      <td id=\"T_9204f_row5_col5\" class=\"data row5 col5\" >96</td>\n",
       "      <td id=\"T_9204f_row5_col6\" class=\"data row5 col6\" >37</td>\n",
       "    </tr>\n",
       "    <tr>\n",
       "      <td id=\"T_9204f_row6_col0\" class=\"data row6 col0\" >Burkina Faso</td>\n",
       "      <td id=\"T_9204f_row6_col1\" class=\"data row6 col1\" >152</td>\n",
       "      <td id=\"T_9204f_row6_col2\" class=\"data row6 col2\" >145</td>\n",
       "      <td id=\"T_9204f_row6_col3\" class=\"data row6 col3\" >134</td>\n",
       "      <td id=\"T_9204f_row6_col4\" class=\"data row6 col4\" >121</td>\n",
       "      <td id=\"T_9204f_row6_col5\" class=\"data row6 col5\" >115</td>\n",
       "      <td id=\"T_9204f_row6_col6\" class=\"data row6 col6\" >37</td>\n",
       "    </tr>\n",
       "    <tr>\n",
       "      <td id=\"T_9204f_row7_col0\" class=\"data row7 col0\" >Bulgaria</td>\n",
       "      <td id=\"T_9204f_row7_col1\" class=\"data row7 col1\" >134</td>\n",
       "      <td id=\"T_9204f_row7_col2\" class=\"data row7 col2\" >129</td>\n",
       "      <td id=\"T_9204f_row7_col3\" class=\"data row7 col3\" >105</td>\n",
       "      <td id=\"T_9204f_row7_col4\" class=\"data row7 col4\" >100</td>\n",
       "      <td id=\"T_9204f_row7_col5\" class=\"data row7 col5\" >97</td>\n",
       "      <td id=\"T_9204f_row7_col6\" class=\"data row7 col6\" >37</td>\n",
       "    </tr>\n",
       "    <tr>\n",
       "      <td id=\"T_9204f_row8_col0\" class=\"data row8 col0\" >Cambodia</td>\n",
       "      <td id=\"T_9204f_row8_col1\" class=\"data row8 col1\" >145</td>\n",
       "      <td id=\"T_9204f_row8_col2\" class=\"data row8 col2\" >140</td>\n",
       "      <td id=\"T_9204f_row8_col3\" class=\"data row8 col3\" >129</td>\n",
       "      <td id=\"T_9204f_row8_col4\" class=\"data row8 col4\" >120</td>\n",
       "      <td id=\"T_9204f_row8_col5\" class=\"data row8 col5\" >109</td>\n",
       "      <td id=\"T_9204f_row8_col6\" class=\"data row8 col6\" >36</td>\n",
       "    </tr>\n",
       "    <tr>\n",
       "      <td id=\"T_9204f_row9_col0\" class=\"data row9 col0\" >Congo (Brazzaville)</td>\n",
       "      <td id=\"T_9204f_row9_col1\" class=\"data row9 col1\" >139</td>\n",
       "      <td id=\"T_9204f_row9_col2\" class=\"data row9 col2\" >127</td>\n",
       "      <td id=\"T_9204f_row9_col3\" class=\"data row9 col3\" >124</td>\n",
       "      <td id=\"T_9204f_row9_col4\" class=\"data row9 col4\" >114</td>\n",
       "      <td id=\"T_9204f_row9_col5\" class=\"data row9 col5\" >103</td>\n",
       "      <td id=\"T_9204f_row9_col6\" class=\"data row9 col6\" >36</td>\n",
       "    </tr>\n",
       "    <tr>\n",
       "      <td id=\"T_9204f_row10_col0\" class=\"data row10 col0\" >Latvia</td>\n",
       "      <td id=\"T_9204f_row10_col1\" class=\"data row10 col1\" >89</td>\n",
       "      <td id=\"T_9204f_row10_col2\" class=\"data row10 col2\" >68</td>\n",
       "      <td id=\"T_9204f_row10_col3\" class=\"data row10 col3\" >54</td>\n",
       "      <td id=\"T_9204f_row10_col4\" class=\"data row10 col4\" >53</td>\n",
       "      <td id=\"T_9204f_row10_col5\" class=\"data row10 col5\" >53</td>\n",
       "      <td id=\"T_9204f_row10_col6\" class=\"data row10 col6\" >36</td>\n",
       "    </tr>\n",
       "    <tr>\n",
       "      <td id=\"T_9204f_row11_col0\" class=\"data row11 col0\" >Tajikistan</td>\n",
       "      <td id=\"T_9204f_row11_col1\" class=\"data row11 col1\" >106</td>\n",
       "      <td id=\"T_9204f_row11_col2\" class=\"data row11 col2\" >100</td>\n",
       "      <td id=\"T_9204f_row11_col3\" class=\"data row11 col3\" >96</td>\n",
       "      <td id=\"T_9204f_row11_col4\" class=\"data row11 col4\" >88</td>\n",
       "      <td id=\"T_9204f_row11_col5\" class=\"data row11 col5\" >74</td>\n",
       "      <td id=\"T_9204f_row11_col6\" class=\"data row11 col6\" >32</td>\n",
       "    </tr>\n",
       "    <tr>\n",
       "      <td id=\"T_9204f_row12_col0\" class=\"data row12 col0\" >Niger</td>\n",
       "      <td id=\"T_9204f_row12_col1\" class=\"data row12 col1\" >144</td>\n",
       "      <td id=\"T_9204f_row12_col2\" class=\"data row12 col2\" >142</td>\n",
       "      <td id=\"T_9204f_row12_col3\" class=\"data row12 col3\" >135</td>\n",
       "      <td id=\"T_9204f_row12_col4\" class=\"data row12 col4\" >134</td>\n",
       "      <td id=\"T_9204f_row12_col5\" class=\"data row12 col5\" >114</td>\n",
       "      <td id=\"T_9204f_row12_col6\" class=\"data row12 col6\" >30</td>\n",
       "    </tr>\n",
       "    <tr>\n",
       "      <td id=\"T_9204f_row13_col0\" class=\"data row13 col0\" >Philippines</td>\n",
       "      <td id=\"T_9204f_row13_col1\" class=\"data row13 col1\" >90</td>\n",
       "      <td id=\"T_9204f_row13_col2\" class=\"data row13 col2\" >82</td>\n",
       "      <td id=\"T_9204f_row13_col3\" class=\"data row13 col3\" >72</td>\n",
       "      <td id=\"T_9204f_row13_col4\" class=\"data row13 col4\" >71</td>\n",
       "      <td id=\"T_9204f_row13_col5\" class=\"data row13 col5\" >69</td>\n",
       "      <td id=\"T_9204f_row13_col6\" class=\"data row13 col6\" >21</td>\n",
       "    </tr>\n",
       "    <tr>\n",
       "      <td id=\"T_9204f_row14_col0\" class=\"data row14 col0\" >Dominican Republic</td>\n",
       "      <td id=\"T_9204f_row14_col1\" class=\"data row14 col1\" >98</td>\n",
       "      <td id=\"T_9204f_row14_col2\" class=\"data row14 col2\" >89</td>\n",
       "      <td id=\"T_9204f_row14_col3\" class=\"data row14 col3\" >86</td>\n",
       "      <td id=\"T_9204f_row14_col4\" class=\"data row14 col4\" >83</td>\n",
       "      <td id=\"T_9204f_row14_col5\" class=\"data row14 col5\" >77</td>\n",
       "      <td id=\"T_9204f_row14_col6\" class=\"data row14 col6\" >21</td>\n",
       "    </tr>\n",
       "    <tr>\n",
       "      <td id=\"T_9204f_row15_col0\" class=\"data row15 col0\" >Poland</td>\n",
       "      <td id=\"T_9204f_row15_col1\" class=\"data row15 col1\" >60</td>\n",
       "      <td id=\"T_9204f_row15_col2\" class=\"data row15 col2\" >57</td>\n",
       "      <td id=\"T_9204f_row15_col3\" class=\"data row15 col3\" >46</td>\n",
       "      <td id=\"T_9204f_row15_col4\" class=\"data row15 col4\" >42</td>\n",
       "      <td id=\"T_9204f_row15_col5\" class=\"data row15 col5\" >40</td>\n",
       "      <td id=\"T_9204f_row15_col6\" class=\"data row15 col6\" >20</td>\n",
       "    </tr>\n",
       "    <tr>\n",
       "      <td id=\"T_9204f_row16_col0\" class=\"data row16 col0\" >Togo</td>\n",
       "      <td id=\"T_9204f_row16_col1\" class=\"data row16 col1\" >158</td>\n",
       "      <td id=\"T_9204f_row16_col2\" class=\"data row16 col2\" >155</td>\n",
       "      <td id=\"T_9204f_row16_col3\" class=\"data row16 col3\" >150</td>\n",
       "      <td id=\"T_9204f_row16_col4\" class=\"data row16 col4\" >139</td>\n",
       "      <td id=\"T_9204f_row16_col5\" class=\"data row16 col5\" >139</td>\n",
       "      <td id=\"T_9204f_row16_col6\" class=\"data row16 col6\" >19</td>\n",
       "    </tr>\n",
       "    <tr>\n",
       "      <td id=\"T_9204f_row17_col0\" class=\"data row17 col0\" >Estonia</td>\n",
       "      <td id=\"T_9204f_row17_col1\" class=\"data row17 col1\" >73</td>\n",
       "      <td id=\"T_9204f_row17_col2\" class=\"data row17 col2\" >72</td>\n",
       "      <td id=\"T_9204f_row17_col3\" class=\"data row17 col3\" >66</td>\n",
       "      <td id=\"T_9204f_row17_col4\" class=\"data row17 col4\" >63</td>\n",
       "      <td id=\"T_9204f_row17_col5\" class=\"data row17 col5\" >55</td>\n",
       "      <td id=\"T_9204f_row17_col6\" class=\"data row17 col6\" >18</td>\n",
       "    </tr>\n",
       "    <tr>\n",
       "      <td id=\"T_9204f_row18_col0\" class=\"data row18 col0\" >Malta</td>\n",
       "      <td id=\"T_9204f_row18_col1\" class=\"data row18 col1\" >37</td>\n",
       "      <td id=\"T_9204f_row18_col2\" class=\"data row18 col2\" >30</td>\n",
       "      <td id=\"T_9204f_row18_col3\" class=\"data row18 col3\" >27</td>\n",
       "      <td id=\"T_9204f_row18_col4\" class=\"data row18 col4\" >22</td>\n",
       "      <td id=\"T_9204f_row18_col5\" class=\"data row18 col5\" >22</td>\n",
       "      <td id=\"T_9204f_row18_col6\" class=\"data row18 col6\" >15</td>\n",
       "    </tr>\n",
       "    <tr>\n",
       "      <td id=\"T_9204f_row19_col0\" class=\"data row19 col0\" >Italy</td>\n",
       "      <td id=\"T_9204f_row19_col1\" class=\"data row19 col1\" >50</td>\n",
       "      <td id=\"T_9204f_row19_col2\" class=\"data row19 col2\" >50</td>\n",
       "      <td id=\"T_9204f_row19_col3\" class=\"data row19 col3\" >48</td>\n",
       "      <td id=\"T_9204f_row19_col4\" class=\"data row19 col4\" >47</td>\n",
       "      <td id=\"T_9204f_row19_col5\" class=\"data row19 col5\" >36</td>\n",
       "      <td id=\"T_9204f_row19_col6\" class=\"data row19 col6\" >14</td>\n",
       "    </tr>\n",
       "    <tr>\n",
       "      <td id=\"T_9204f_row20_col0\" class=\"data row20 col0\" >Czech Republic</td>\n",
       "      <td id=\"T_9204f_row20_col1\" class=\"data row20 col1\" >31</td>\n",
       "      <td id=\"T_9204f_row20_col2\" class=\"data row20 col2\" >27</td>\n",
       "      <td id=\"T_9204f_row20_col3\" class=\"data row20 col3\" >23</td>\n",
       "      <td id=\"T_9204f_row20_col4\" class=\"data row20 col4\" >21</td>\n",
       "      <td id=\"T_9204f_row20_col5\" class=\"data row20 col5\" >20</td>\n",
       "      <td id=\"T_9204f_row20_col6\" class=\"data row20 col6\" >11</td>\n",
       "    </tr>\n",
       "    <tr>\n",
       "      <td id=\"T_9204f_row21_col0\" class=\"data row21 col0\" >Slovakia</td>\n",
       "      <td id=\"T_9204f_row21_col1\" class=\"data row21 col1\" >45</td>\n",
       "      <td id=\"T_9204f_row21_col2\" class=\"data row21 col2\" >45</td>\n",
       "      <td id=\"T_9204f_row21_col3\" class=\"data row21 col3\" >40</td>\n",
       "      <td id=\"T_9204f_row21_col4\" class=\"data row21 col4\" >39</td>\n",
       "      <td id=\"T_9204f_row21_col5\" class=\"data row21 col5\" >38</td>\n",
       "      <td id=\"T_9204f_row21_col6\" class=\"data row21 col6\" >7</td>\n",
       "    </tr>\n",
       "    <tr>\n",
       "      <td id=\"T_9204f_row22_col0\" class=\"data row22 col0\" >Syria</td>\n",
       "      <td id=\"T_9204f_row22_col1\" class=\"data row22 col1\" >156</td>\n",
       "      <td id=\"T_9204f_row22_col2\" class=\"data row22 col2\" >156</td>\n",
       "      <td id=\"T_9204f_row22_col3\" class=\"data row22 col3\" >152</td>\n",
       "      <td id=\"T_9204f_row22_col4\" class=\"data row22 col4\" >150</td>\n",
       "      <td id=\"T_9204f_row22_col5\" class=\"data row22 col5\" >149</td>\n",
       "      <td id=\"T_9204f_row22_col6\" class=\"data row22 col6\" >7</td>\n",
       "    </tr>\n",
       "    <tr>\n",
       "      <td id=\"T_9204f_row23_col0\" class=\"data row23 col0\" >Finland</td>\n",
       "      <td id=\"T_9204f_row23_col1\" class=\"data row23 col1\" >6</td>\n",
       "      <td id=\"T_9204f_row23_col2\" class=\"data row23 col2\" >5</td>\n",
       "      <td id=\"T_9204f_row23_col3\" class=\"data row23 col3\" >5</td>\n",
       "      <td id=\"T_9204f_row23_col4\" class=\"data row23 col4\" >1</td>\n",
       "      <td id=\"T_9204f_row23_col5\" class=\"data row23 col5\" >1</td>\n",
       "      <td id=\"T_9204f_row23_col6\" class=\"data row23 col6\" >5</td>\n",
       "    </tr>\n",
       "    <tr>\n",
       "      <td id=\"T_9204f_row24_col0\" class=\"data row24 col0\" >Netherlands</td>\n",
       "      <td id=\"T_9204f_row24_col1\" class=\"data row24 col1\" >7</td>\n",
       "      <td id=\"T_9204f_row24_col2\" class=\"data row24 col2\" >7</td>\n",
       "      <td id=\"T_9204f_row24_col3\" class=\"data row24 col3\" >6</td>\n",
       "      <td id=\"T_9204f_row24_col4\" class=\"data row24 col4\" >6</td>\n",
       "      <td id=\"T_9204f_row24_col5\" class=\"data row24 col5\" >5</td>\n",
       "      <td id=\"T_9204f_row24_col6\" class=\"data row24 col6\" >2</td>\n",
       "    </tr>\n",
       "    <tr>\n",
       "      <td id=\"T_9204f_row25_col0\" class=\"data row25 col0\" >New Zealand</td>\n",
       "      <td id=\"T_9204f_row25_col1\" class=\"data row25 col1\" >9</td>\n",
       "      <td id=\"T_9204f_row25_col2\" class=\"data row25 col2\" >8</td>\n",
       "      <td id=\"T_9204f_row25_col3\" class=\"data row25 col3\" >8</td>\n",
       "      <td id=\"T_9204f_row25_col4\" class=\"data row25 col4\" >8</td>\n",
       "      <td id=\"T_9204f_row25_col5\" class=\"data row25 col5\" >8</td>\n",
       "      <td id=\"T_9204f_row25_col6\" class=\"data row25 col6\" >1</td>\n",
       "    </tr>\n",
       "  </tbody>\n",
       "</table>\n"
      ],
      "text/plain": [
       "<pandas.io.formats.style.Styler at 0x7f7e08465310>"
      ]
     },
     "execution_count": 14,
     "metadata": {},
     "output_type": "execute_result"
    }
   ],
   "source": [
    "temp_res=pd.merge(pandas_df_15[['Country','Happiness Rank']], pandas_df_16[['Country','Happiness Rank']], on=\"Country\")\\\n",
    "        .rename(columns={'Happiness Rank_x':'Rank_2015','Happiness Rank_y':'Rank_2016'})\\\n",
    "        .query(\"Rank_2015 >= Rank_2016\")\\\n",
    "        .merge(pandas_df_17[['Country','Happiness.Rank']],on=\"Country\")\\\n",
    "        .rename(columns={'Happiness.Rank':'Rank_2017'})\\\n",
    "        .query(\"Rank_2016 >= Rank_2017\")\\\n",
    "        .merge(pandas_df_18[['Country or region','Overall rank']],left_on=\"Country\",right_on=\"Country or region\")\\\n",
    "        .rename(columns={'Overall rank':'Rank_2018'})\\\n",
    "        .query(\"Rank_2017 >= Rank_2018\")\\\n",
    "        .drop(columns='Country or region')\\\n",
    "        .merge(pandas_df_19[['Country or region','Overall rank']],left_on=\"Country\",right_on=\"Country or region\")\\\n",
    "        .rename(columns={'Overall rank':'Rank_2019'})\\\n",
    "        .query(\"Rank_2018 >= Rank_2019\")\\\n",
    "        .drop(columns='Country or region')\n",
    "        \n",
    "\n",
    "temp_res.assign(Increment_Factor=temp_res[\"Rank_2015\"] - temp_res[\"Rank_2019\"])\\\n",
    "        .sort_values('Increment_Factor',ascending=False)\\\n",
    "        .style.hide_index()"
   ]
  },
  {
   "cell_type": "markdown",
   "id": "be9a2e69-0566-4627-8a49-fb2e59e1f0ee",
   "metadata": {},
   "source": [
    "#### Using Spark Dataframe"
   ]
  },
  {
   "cell_type": "code",
   "execution_count": 15,
   "id": "a6ff708a-12ca-42aa-a3a8-f68c06a45e9b",
   "metadata": {},
   "outputs": [
    {
     "name": "stderr",
     "output_type": "stream",
     "text": [
      "                                                                                \r"
     ]
    },
    {
     "name": "stdout",
     "output_type": "stream",
     "text": [
      "+-------------------+---------+---------+---------+---------+---------+----------------+\n",
      "|            Country|Rank_2015|Rank_2016|Rank_2017|Rank_2018|Rank_2019|Increment_Factor|\n",
      "+-------------------+---------+---------+---------+---------+---------+----------------+\n",
      "|              Benin|      155|      153|      143|      136|      102|              53|\n",
      "|        Ivory Coast|      151|      139|      128|      107|       99|              52|\n",
      "|           Honduras|      105|      104|       91|       72|       59|              46|\n",
      "|            Hungary|      104|       91|       75|       69|       62|              42|\n",
      "|            Romania|       86|       71|       57|       52|       48|              38|\n",
      "|       Burkina Faso|      152|      145|      134|      121|      115|              37|\n",
      "|           Cameroon|      133|      114|      107|       99|       96|              37|\n",
      "|           Bulgaria|      134|      129|      105|      100|       97|              37|\n",
      "|           Cambodia|      145|      140|      129|      120|      109|              36|\n",
      "|Congo (Brazzaville)|      139|      127|      124|      114|      103|              36|\n",
      "|             Latvia|       89|       68|       54|       53|       53|              36|\n",
      "|         Tajikistan|      106|      100|       96|       88|       74|              32|\n",
      "|              Niger|      144|      142|      135|      134|      114|              30|\n",
      "| Dominican Republic|       98|       89|       86|       83|       77|              21|\n",
      "|        Philippines|       90|       82|       72|       71|       69|              21|\n",
      "|             Poland|       60|       57|       46|       42|       40|              20|\n",
      "|               Togo|      158|      155|      150|      139|      139|              19|\n",
      "|            Estonia|       73|       72|       66|       63|       55|              18|\n",
      "|              Malta|       37|       30|       27|       22|       22|              15|\n",
      "|              Italy|       50|       50|       48|       47|       36|              14|\n",
      "|     Czech Republic|       31|       27|       23|       21|       20|              11|\n",
      "|              Syria|      156|      156|      152|      150|      149|               7|\n",
      "|           Slovakia|       45|       45|       40|       39|       38|               7|\n",
      "|            Finland|        6|        5|        5|        1|        1|               5|\n",
      "|        Netherlands|        7|        7|        6|        6|        5|               2|\n",
      "|        New Zealand|        9|        8|        8|        8|        8|               1|\n",
      "+-------------------+---------+---------+---------+---------+---------+----------------+\n",
      "\n"
     ]
    }
   ],
   "source": [
    "spark_df_15['Country','Happiness Rank']\\\n",
    "    .withColumnRenamed(\"Happiness Rank\",\"Rank_2015\")\\\n",
    "    .join(spark_df_16['Country','Happiness Rank'].withColumnRenamed(\"Happiness Rank\",\"Rank_2016\"),on='Country')\\\n",
    "    .filter(F.col(\"Rank_2015\") >= F.col(\"Rank_2016\"))\\\n",
    "    .join(spark_df_17['Country','`Happiness.Rank`'].withColumnRenamed(\"Happiness.Rank\",\"Rank_2017\"),on='Country')\\\n",
    "    .filter(F.col(\"Rank_2016\") >= F.col(\"Rank_2017\"))\\\n",
    "    .join(spark_df_18['`Country or region`','`Overall rank`'].withColumnRenamed(\"Country or region\",\"Country\").withColumnRenamed(\"Overall rank\",\"Rank_2018\"),on='Country')\\\n",
    "    .filter(F.col(\"Rank_2017\") >= F.col(\"Rank_2018\"))\\\n",
    "    .join(spark_df_19['`Country or region`','`Overall rank`'].withColumnRenamed(\"Country or region\",\"Country\").withColumnRenamed(\"Overall rank\",\"Rank_2019\"),on='Country')\\\n",
    "    .filter(F.col(\"Rank_2018\") >= F.col(\"Rank_2019\"))\\\n",
    "    .withColumn('Increment_Factor', F.col(\"Rank_2015\") - F.col(\"Rank_2019\"))\\\n",
    "    .sort('Increment_Factor',ascending=False)\\\n",
    "    .show(200)\n",
    "    "
   ]
  },
  {
   "cell_type": "markdown",
   "id": "c63e3ca2-e6c0-4e87-88f5-9508717e760a",
   "metadata": {
    "tags": []
   },
   "source": [
    "### Find the countries which continously observed drop in rank along with year wise rank and diffence of rank from 2015 to 2019 \n",
    "* Sort the data by biggest to lowest change between 2015 to 2019"
   ]
  },
  {
   "cell_type": "markdown",
   "id": "f311c9de-22e9-4750-9a6f-2a90fe7f57bc",
   "metadata": {
    "tags": []
   },
   "source": [
    "#### Using Spark Sql"
   ]
  },
  {
   "cell_type": "code",
   "execution_count": 16,
   "id": "c2b79973-9f53-43ee-8676-6526cb4866fc",
   "metadata": {},
   "outputs": [
    {
     "name": "stdout",
     "output_type": "stream",
     "text": [
      "+-----------+---------+---------+---------+---------+---------+----------------+\n",
      "|    Country|Rank_2015|Rank_2016|Rank_2017|Rank_2018|Rank_2019|Decrement_Factor|\n",
      "+-----------+---------+---------+---------+---------+---------+----------------+\n",
      "|  Venezuela|       23|       44|       82|      102|      108|             -85|\n",
      "|     Zambia|       85|      106|      116|      125|      138|             -53|\n",
      "|   Zimbabwe|      115|      131|      138|      144|      146|             -31|\n",
      "|      India|      117|      118|      122|      133|      140|             -23|\n",
      "|    Belarus|       59|       61|       67|       73|       81|             -22|\n",
      "|   Botswana|      128|      137|      142|      146|      148|             -20|\n",
      "|     Malawi|      131|      132|      136|      147|      150|             -19|\n",
      "|    Moldova|       52|       55|       56|       67|       71|             -19|\n",
      "|     Brazil|       16|       17|       22|       28|       32|             -16|\n",
      "| Azerbaijan|       80|       81|       85|       87|       90|             -10|\n",
      "|      Libya|       63|       67|       68|       70|       72|              -9|\n",
      "|Switzerland|        1|        2|        4|        5|        6|              -5|\n",
      "+-----------+---------+---------+---------+---------+---------+----------------+\n",
      "\n"
     ]
    }
   ],
   "source": [
    "spark.sql(\"\"\"Select t1.Country ,t1.`Happiness Rank` as Rank_2015,t2.`Happiness Rank` Rank_2016,t3.`Happiness.Rank`  Rank_2017, \n",
    "            t4.`Overall rank` Rank_2018 ,t5.`Overall rank` Rank_2019,\n",
    "            (t1.`Happiness Rank`-t5.`Overall rank`) Decrement_Factor\n",
    "            from  spark_tbl_15  t1\n",
    "            inner join spark_tbl_16 t2\n",
    "            on t1.Country = t2.Country and t1.`Happiness Rank` < t2.`Happiness Rank`\n",
    "            inner join spark_tbl_17 t3\n",
    "            on t1.Country = t3.Country and t2.`Happiness Rank` < t3.`Happiness.Rank`\n",
    "            inner join spark_tbl_18 t4\n",
    "            on t1.Country = t4.`Country or region` and t3.`Happiness.Rank` < t4.`Overall rank`\n",
    "            inner join spark_tbl_19 t5\n",
    "            on t1.Country = t5.`Country or region` and t4.`Overall rank` < t5.`Overall rank`\n",
    "            order by Decrement_Factor asc\n",
    "          \n",
    "          \"\"\").show(200)"
   ]
  },
  {
   "cell_type": "markdown",
   "id": "92e3c6ff-f288-4115-bd77-8ec7c932d214",
   "metadata": {},
   "source": [
    "#### Using Pandas"
   ]
  },
  {
   "cell_type": "code",
   "execution_count": 17,
   "id": "43576640-cc43-44df-a0fd-317898890bb5",
   "metadata": {},
   "outputs": [
    {
     "data": {
      "text/html": [
       "<style type=\"text/css\">\n",
       "</style>\n",
       "<table id=\"T_8f109\">\n",
       "  <thead>\n",
       "    <tr>\n",
       "      <th id=\"T_8f109_level0_col0\" class=\"col_heading level0 col0\" >Country</th>\n",
       "      <th id=\"T_8f109_level0_col1\" class=\"col_heading level0 col1\" >Rank_2015</th>\n",
       "      <th id=\"T_8f109_level0_col2\" class=\"col_heading level0 col2\" >Rank_2016</th>\n",
       "      <th id=\"T_8f109_level0_col3\" class=\"col_heading level0 col3\" >Rank_2017</th>\n",
       "      <th id=\"T_8f109_level0_col4\" class=\"col_heading level0 col4\" >Rank_2018</th>\n",
       "      <th id=\"T_8f109_level0_col5\" class=\"col_heading level0 col5\" >Rank_2019</th>\n",
       "      <th id=\"T_8f109_level0_col6\" class=\"col_heading level0 col6\" >Decrement_Factor</th>\n",
       "    </tr>\n",
       "  </thead>\n",
       "  <tbody>\n",
       "    <tr>\n",
       "      <td id=\"T_8f109_row0_col0\" class=\"data row0 col0\" >Venezuela</td>\n",
       "      <td id=\"T_8f109_row0_col1\" class=\"data row0 col1\" >23</td>\n",
       "      <td id=\"T_8f109_row0_col2\" class=\"data row0 col2\" >44</td>\n",
       "      <td id=\"T_8f109_row0_col3\" class=\"data row0 col3\" >82</td>\n",
       "      <td id=\"T_8f109_row0_col4\" class=\"data row0 col4\" >102</td>\n",
       "      <td id=\"T_8f109_row0_col5\" class=\"data row0 col5\" >108</td>\n",
       "      <td id=\"T_8f109_row0_col6\" class=\"data row0 col6\" >-85</td>\n",
       "    </tr>\n",
       "    <tr>\n",
       "      <td id=\"T_8f109_row1_col0\" class=\"data row1 col0\" >Zambia</td>\n",
       "      <td id=\"T_8f109_row1_col1\" class=\"data row1 col1\" >85</td>\n",
       "      <td id=\"T_8f109_row1_col2\" class=\"data row1 col2\" >106</td>\n",
       "      <td id=\"T_8f109_row1_col3\" class=\"data row1 col3\" >116</td>\n",
       "      <td id=\"T_8f109_row1_col4\" class=\"data row1 col4\" >125</td>\n",
       "      <td id=\"T_8f109_row1_col5\" class=\"data row1 col5\" >138</td>\n",
       "      <td id=\"T_8f109_row1_col6\" class=\"data row1 col6\" >-53</td>\n",
       "    </tr>\n",
       "    <tr>\n",
       "      <td id=\"T_8f109_row2_col0\" class=\"data row2 col0\" >Zimbabwe</td>\n",
       "      <td id=\"T_8f109_row2_col1\" class=\"data row2 col1\" >115</td>\n",
       "      <td id=\"T_8f109_row2_col2\" class=\"data row2 col2\" >131</td>\n",
       "      <td id=\"T_8f109_row2_col3\" class=\"data row2 col3\" >138</td>\n",
       "      <td id=\"T_8f109_row2_col4\" class=\"data row2 col4\" >144</td>\n",
       "      <td id=\"T_8f109_row2_col5\" class=\"data row2 col5\" >146</td>\n",
       "      <td id=\"T_8f109_row2_col6\" class=\"data row2 col6\" >-31</td>\n",
       "    </tr>\n",
       "    <tr>\n",
       "      <td id=\"T_8f109_row3_col0\" class=\"data row3 col0\" >India</td>\n",
       "      <td id=\"T_8f109_row3_col1\" class=\"data row3 col1\" >117</td>\n",
       "      <td id=\"T_8f109_row3_col2\" class=\"data row3 col2\" >118</td>\n",
       "      <td id=\"T_8f109_row3_col3\" class=\"data row3 col3\" >122</td>\n",
       "      <td id=\"T_8f109_row3_col4\" class=\"data row3 col4\" >133</td>\n",
       "      <td id=\"T_8f109_row3_col5\" class=\"data row3 col5\" >140</td>\n",
       "      <td id=\"T_8f109_row3_col6\" class=\"data row3 col6\" >-23</td>\n",
       "    </tr>\n",
       "    <tr>\n",
       "      <td id=\"T_8f109_row4_col0\" class=\"data row4 col0\" >Belarus</td>\n",
       "      <td id=\"T_8f109_row4_col1\" class=\"data row4 col1\" >59</td>\n",
       "      <td id=\"T_8f109_row4_col2\" class=\"data row4 col2\" >61</td>\n",
       "      <td id=\"T_8f109_row4_col3\" class=\"data row4 col3\" >67</td>\n",
       "      <td id=\"T_8f109_row4_col4\" class=\"data row4 col4\" >73</td>\n",
       "      <td id=\"T_8f109_row4_col5\" class=\"data row4 col5\" >81</td>\n",
       "      <td id=\"T_8f109_row4_col6\" class=\"data row4 col6\" >-22</td>\n",
       "    </tr>\n",
       "    <tr>\n",
       "      <td id=\"T_8f109_row5_col0\" class=\"data row5 col0\" >Botswana</td>\n",
       "      <td id=\"T_8f109_row5_col1\" class=\"data row5 col1\" >128</td>\n",
       "      <td id=\"T_8f109_row5_col2\" class=\"data row5 col2\" >137</td>\n",
       "      <td id=\"T_8f109_row5_col3\" class=\"data row5 col3\" >142</td>\n",
       "      <td id=\"T_8f109_row5_col4\" class=\"data row5 col4\" >146</td>\n",
       "      <td id=\"T_8f109_row5_col5\" class=\"data row5 col5\" >148</td>\n",
       "      <td id=\"T_8f109_row5_col6\" class=\"data row5 col6\" >-20</td>\n",
       "    </tr>\n",
       "    <tr>\n",
       "      <td id=\"T_8f109_row6_col0\" class=\"data row6 col0\" >Moldova</td>\n",
       "      <td id=\"T_8f109_row6_col1\" class=\"data row6 col1\" >52</td>\n",
       "      <td id=\"T_8f109_row6_col2\" class=\"data row6 col2\" >55</td>\n",
       "      <td id=\"T_8f109_row6_col3\" class=\"data row6 col3\" >56</td>\n",
       "      <td id=\"T_8f109_row6_col4\" class=\"data row6 col4\" >67</td>\n",
       "      <td id=\"T_8f109_row6_col5\" class=\"data row6 col5\" >71</td>\n",
       "      <td id=\"T_8f109_row6_col6\" class=\"data row6 col6\" >-19</td>\n",
       "    </tr>\n",
       "    <tr>\n",
       "      <td id=\"T_8f109_row7_col0\" class=\"data row7 col0\" >Malawi</td>\n",
       "      <td id=\"T_8f109_row7_col1\" class=\"data row7 col1\" >131</td>\n",
       "      <td id=\"T_8f109_row7_col2\" class=\"data row7 col2\" >132</td>\n",
       "      <td id=\"T_8f109_row7_col3\" class=\"data row7 col3\" >136</td>\n",
       "      <td id=\"T_8f109_row7_col4\" class=\"data row7 col4\" >147</td>\n",
       "      <td id=\"T_8f109_row7_col5\" class=\"data row7 col5\" >150</td>\n",
       "      <td id=\"T_8f109_row7_col6\" class=\"data row7 col6\" >-19</td>\n",
       "    </tr>\n",
       "    <tr>\n",
       "      <td id=\"T_8f109_row8_col0\" class=\"data row8 col0\" >Brazil</td>\n",
       "      <td id=\"T_8f109_row8_col1\" class=\"data row8 col1\" >16</td>\n",
       "      <td id=\"T_8f109_row8_col2\" class=\"data row8 col2\" >17</td>\n",
       "      <td id=\"T_8f109_row8_col3\" class=\"data row8 col3\" >22</td>\n",
       "      <td id=\"T_8f109_row8_col4\" class=\"data row8 col4\" >28</td>\n",
       "      <td id=\"T_8f109_row8_col5\" class=\"data row8 col5\" >32</td>\n",
       "      <td id=\"T_8f109_row8_col6\" class=\"data row8 col6\" >-16</td>\n",
       "    </tr>\n",
       "    <tr>\n",
       "      <td id=\"T_8f109_row9_col0\" class=\"data row9 col0\" >Azerbaijan</td>\n",
       "      <td id=\"T_8f109_row9_col1\" class=\"data row9 col1\" >80</td>\n",
       "      <td id=\"T_8f109_row9_col2\" class=\"data row9 col2\" >81</td>\n",
       "      <td id=\"T_8f109_row9_col3\" class=\"data row9 col3\" >85</td>\n",
       "      <td id=\"T_8f109_row9_col4\" class=\"data row9 col4\" >87</td>\n",
       "      <td id=\"T_8f109_row9_col5\" class=\"data row9 col5\" >90</td>\n",
       "      <td id=\"T_8f109_row9_col6\" class=\"data row9 col6\" >-10</td>\n",
       "    </tr>\n",
       "    <tr>\n",
       "      <td id=\"T_8f109_row10_col0\" class=\"data row10 col0\" >Libya</td>\n",
       "      <td id=\"T_8f109_row10_col1\" class=\"data row10 col1\" >63</td>\n",
       "      <td id=\"T_8f109_row10_col2\" class=\"data row10 col2\" >67</td>\n",
       "      <td id=\"T_8f109_row10_col3\" class=\"data row10 col3\" >68</td>\n",
       "      <td id=\"T_8f109_row10_col4\" class=\"data row10 col4\" >70</td>\n",
       "      <td id=\"T_8f109_row10_col5\" class=\"data row10 col5\" >72</td>\n",
       "      <td id=\"T_8f109_row10_col6\" class=\"data row10 col6\" >-9</td>\n",
       "    </tr>\n",
       "    <tr>\n",
       "      <td id=\"T_8f109_row11_col0\" class=\"data row11 col0\" >Switzerland</td>\n",
       "      <td id=\"T_8f109_row11_col1\" class=\"data row11 col1\" >1</td>\n",
       "      <td id=\"T_8f109_row11_col2\" class=\"data row11 col2\" >2</td>\n",
       "      <td id=\"T_8f109_row11_col3\" class=\"data row11 col3\" >4</td>\n",
       "      <td id=\"T_8f109_row11_col4\" class=\"data row11 col4\" >5</td>\n",
       "      <td id=\"T_8f109_row11_col5\" class=\"data row11 col5\" >6</td>\n",
       "      <td id=\"T_8f109_row11_col6\" class=\"data row11 col6\" >-5</td>\n",
       "    </tr>\n",
       "  </tbody>\n",
       "</table>\n"
      ],
      "text/plain": [
       "<pandas.io.formats.style.Styler at 0x7f7df97c8f40>"
      ]
     },
     "execution_count": 17,
     "metadata": {},
     "output_type": "execute_result"
    }
   ],
   "source": [
    "\n",
    "temp_res=pd.merge(pandas_df_15[['Country','Happiness Rank']], pandas_df_16[['Country','Happiness Rank']], on=\"Country\")\\\n",
    "        .rename(columns={'Happiness Rank_x':'Rank_2015','Happiness Rank_y':'Rank_2016'})\\\n",
    "        .query(\"Rank_2015 < Rank_2016\")\\\n",
    "        .merge(pandas_df_17[['Country','Happiness.Rank']],on=\"Country\")\\\n",
    "        .rename(columns={'Happiness.Rank':'Rank_2017'})\\\n",
    "        .query(\"Rank_2016 < Rank_2017\")\\\n",
    "        .merge(pandas_df_18[['Country or region','Overall rank']],left_on=\"Country\",right_on=\"Country or region\")\\\n",
    "        .rename(columns={'Overall rank':'Rank_2018'})\\\n",
    "        .query(\"Rank_2017 < Rank_2018\")\\\n",
    "        .drop(columns='Country or region')\\\n",
    "        .merge(pandas_df_19[['Country or region','Overall rank']],left_on=\"Country\",right_on=\"Country or region\")\\\n",
    "        .rename(columns={'Overall rank':'Rank_2019'})\\\n",
    "        .query(\"Rank_2018 < Rank_2019\")\\\n",
    "        .drop(columns='Country or region')\n",
    "        \n",
    "\n",
    "temp_res.assign(Decrement_Factor=temp_res[\"Rank_2015\"] - temp_res[\"Rank_2019\"])\\\n",
    "        .sort_values('Decrement_Factor')\\\n",
    "        .style.hide_index()"
   ]
  },
  {
   "cell_type": "markdown",
   "id": "c2e7fff6-1e3e-456b-99b9-d022a616e013",
   "metadata": {},
   "source": [
    "#### Using Spark Dataframe"
   ]
  },
  {
   "cell_type": "code",
   "execution_count": 18,
   "id": "d6e2f792-7540-4dc3-b032-cfcfe3e0a3eb",
   "metadata": {},
   "outputs": [
    {
     "name": "stderr",
     "output_type": "stream",
     "text": [
      "                                                                                \r"
     ]
    },
    {
     "name": "stdout",
     "output_type": "stream",
     "text": [
      "+-----------+---------+---------+---------+---------+---------+----------------+\n",
      "|    Country|Rank_2015|Rank_2016|Rank_2017|Rank_2018|Rank_2019|Decrement_Factor|\n",
      "+-----------+---------+---------+---------+---------+---------+----------------+\n",
      "|  Venezuela|       23|       44|       82|      102|      108|             -85|\n",
      "|     Zambia|       85|      106|      116|      125|      138|             -53|\n",
      "|   Zimbabwe|      115|      131|      138|      144|      146|             -31|\n",
      "|      India|      117|      118|      122|      133|      140|             -23|\n",
      "|    Belarus|       59|       61|       67|       73|       81|             -22|\n",
      "|   Botswana|      128|      137|      142|      146|      148|             -20|\n",
      "|     Malawi|      131|      132|      136|      147|      150|             -19|\n",
      "|    Moldova|       52|       55|       56|       67|       71|             -19|\n",
      "|     Brazil|       16|       17|       22|       28|       32|             -16|\n",
      "| Azerbaijan|       80|       81|       85|       87|       90|             -10|\n",
      "|      Libya|       63|       67|       68|       70|       72|              -9|\n",
      "|Switzerland|        1|        2|        4|        5|        6|              -5|\n",
      "+-----------+---------+---------+---------+---------+---------+----------------+\n",
      "\n"
     ]
    }
   ],
   "source": [
    "spark_df_15['Country','Happiness Rank']\\\n",
    "    .withColumnRenamed(\"Happiness Rank\",\"Rank_2015\")\\\n",
    "    .join(spark_df_16['Country','Happiness Rank'].withColumnRenamed(\"Happiness Rank\",\"Rank_2016\"),on='Country')\\\n",
    "    .filter(F.col(\"Rank_2015\") < F.col(\"Rank_2016\"))\\\n",
    "    .join(spark_df_17['Country','`Happiness.Rank`'].withColumnRenamed(\"Happiness.Rank\",\"Rank_2017\"),on='Country')\\\n",
    "    .filter(F.col(\"Rank_2016\") < F.col(\"Rank_2017\"))\\\n",
    "    .join(spark_df_18['`Country or region`','`Overall rank`'].withColumnRenamed(\"Country or region\",\"Country\").withColumnRenamed(\"Overall rank\",\"Rank_2018\"),on='Country')\\\n",
    "    .filter(F.col(\"Rank_2017\") < F.col(\"Rank_2018\"))\\\n",
    "    .join(spark_df_19['`Country or region`','`Overall rank`'].withColumnRenamed(\"Country or region\",\"Country\").withColumnRenamed(\"Overall rank\",\"Rank_2019\"),on='Country')\\\n",
    "    .filter(F.col(\"Rank_2018\") < F.col(\"Rank_2019\"))\\\n",
    "    .withColumn('Decrement_Factor', F.col(\"Rank_2015\") - F.col(\"Rank_2019\"))\\\n",
    "    .sort('Decrement_Factor')\\\n",
    "    .show(200)\n",
    "    "
   ]
  },
  {
   "cell_type": "markdown",
   "id": "1c8ed887-a794-404a-beba-c2dafc2c2cca",
   "metadata": {},
   "source": [
    "### In progress"
   ]
  },
  {
   "cell_type": "code",
   "execution_count": 19,
   "id": "3deec11a-1507-415e-9e06-1c797bbd75a1",
   "metadata": {},
   "outputs": [],
   "source": [
    "spark.stop()"
   ]
  }
 ],
 "metadata": {
  "kernelspec": {
   "display_name": "Python 3 (ipykernel)",
   "language": "python",
   "name": "python3"
  },
  "language_info": {
   "codemirror_mode": {
    "name": "ipython",
    "version": 3
   },
   "file_extension": ".py",
   "mimetype": "text/x-python",
   "name": "python",
   "nbconvert_exporter": "python",
   "pygments_lexer": "ipython3",
   "version": "3.9.13"
  }
 },
 "nbformat": 4,
 "nbformat_minor": 5
}
