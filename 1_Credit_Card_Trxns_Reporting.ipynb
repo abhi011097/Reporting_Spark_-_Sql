{
 "cells": [
  {
   "cell_type": "code",
   "execution_count": 1,
   "id": "c22c785a-401d-458b-b37a-af1c7449b58b",
   "metadata": {},
   "outputs": [],
   "source": [
    "from pyspark.sql import SparkSession\n",
    "import numpy as np # linear algebra\n",
    "import pandas as pd # data processing , reading the csv file (pd.read_csv)\n",
    "import matplotlib.pyplot as plt\n",
    "import seaborn as sns\n",
    "import warnings\n",
    "import os"
   ]
  },
  {
   "cell_type": "code",
   "execution_count": 2,
   "id": "0416ea12-c9ea-408b-a4e1-00398f70a28c",
   "metadata": {},
   "outputs": [
    {
     "name": "stderr",
     "output_type": "stream",
     "text": [
      "22/12/26 09:08:47 WARN Utils: Your hostname, Abhisheks-MacBook-Air.local resolves to a loopback address: 127.0.0.1; using 192.168.1.5 instead (on interface en0)\n",
      "22/12/26 09:08:47 WARN Utils: Set SPARK_LOCAL_IP if you need to bind to another address\n",
      "WARNING: An illegal reflective access operation has occurred\n",
      "WARNING: Illegal reflective access by org.apache.spark.unsafe.Platform (file:/Users/abhi011097/opt/anaconda3/lib/python3.9/site-packages/pyspark/jars/spark-unsafe_2.12-3.2.1.jar) to constructor java.nio.DirectByteBuffer(long,int)\n",
      "WARNING: Please consider reporting this to the maintainers of org.apache.spark.unsafe.Platform\n",
      "WARNING: Use --illegal-access=warn to enable warnings of further illegal reflective access operations\n",
      "WARNING: All illegal access operations will be denied in a future release\n",
      "Using Spark's default log4j profile: org/apache/spark/log4j-defaults.properties\n",
      "Setting default log level to \"WARN\".\n",
      "To adjust logging level use sc.setLogLevel(newLevel). For SparkR, use setLogLevel(newLevel).\n",
      "22/12/26 09:08:48 WARN NativeCodeLoader: Unable to load native-hadoop library for your platform... using builtin-java classes where applicable\n",
      "22/12/26 09:08:49 WARN Utils: Service 'SparkUI' could not bind on port 4040. Attempting port 4041.\n"
     ]
    }
   ],
   "source": [
    "%matplotlib inline\n",
    "warnings.filterwarnings(\"ignore\")\n",
    "\n",
    "spark = SparkSession.builder \\\n",
    "          .master(\"local[*]\") \\\n",
    "          .appName(\"Credit Card Analysis\") \\\n",
    "          .getOrCreate()\n",
    "\n",
    "spark.sparkContext.setLogLevel(\"ERROR\")"
   ]
  },
  {
   "cell_type": "code",
   "execution_count": 3,
   "id": "91472587-f332-4129-bd01-ce15ccad89e9",
   "metadata": {},
   "outputs": [
    {
     "data": {
      "text/html": [
       "\n",
       "            <div>\n",
       "                <p><b>SparkSession - in-memory</b></p>\n",
       "                \n",
       "        <div>\n",
       "            <p><b>SparkContext</b></p>\n",
       "\n",
       "            <p><a href=\"http://192.168.1.5:4041\">Spark UI</a></p>\n",
       "\n",
       "            <dl>\n",
       "              <dt>Version</dt>\n",
       "                <dd><code>v3.2.1</code></dd>\n",
       "              <dt>Master</dt>\n",
       "                <dd><code>local[*]</code></dd>\n",
       "              <dt>AppName</dt>\n",
       "                <dd><code>Credit Card Analysis</code></dd>\n",
       "            </dl>\n",
       "        </div>\n",
       "        \n",
       "            </div>\n",
       "        "
      ],
      "text/plain": [
       "<pyspark.sql.session.SparkSession at 0x7fca0b9313a0>"
      ]
     },
     "execution_count": 3,
     "metadata": {},
     "output_type": "execute_result"
    }
   ],
   "source": [
    "spark"
   ]
  },
  {
   "cell_type": "code",
   "execution_count": 4,
   "id": "318a1de2-709f-4e04-aaf9-df62f62a9e47",
   "metadata": {},
   "outputs": [],
   "source": [
    "trxns = spark\\\n",
    "        .read\\\n",
    "        .options(header=\"true\",inferSchema='True')\\\n",
    "        .csv(\"/Users/abhi011097/Dataset_Analysis/1_Credit_Card_Analysis/Dataset/Credit_card_transactions.csv\")\n",
    "\n",
    "trxns.registerTempTable(\"transactions\")"
   ]
  },
  {
   "cell_type": "code",
   "execution_count": 5,
   "id": "e0b93f9a-23d0-474e-9824-e18716f02f17",
   "metadata": {},
   "outputs": [
    {
     "name": "stdout",
     "output_type": "stream",
     "text": [
      "root\n",
      " |-- index: integer (nullable = true)\n",
      " |-- City: string (nullable = true)\n",
      " |-- Date: string (nullable = true)\n",
      " |-- Card Type: string (nullable = true)\n",
      " |-- Exp Type: string (nullable = true)\n",
      " |-- Gender: string (nullable = true)\n",
      " |-- Amount: integer (nullable = true)\n",
      "\n"
     ]
    }
   ],
   "source": [
    "trxns.printSchema()"
   ]
  },
  {
   "cell_type": "code",
   "execution_count": 35,
   "id": "120d866d-dddc-4272-8c60-2add3f74c32a",
   "metadata": {},
   "outputs": [
    {
     "data": {
      "text/plain": [
       "pyspark.sql.dataframe.DataFrame"
      ]
     },
     "execution_count": 35,
     "metadata": {},
     "output_type": "execute_result"
    }
   ],
   "source": [
    "type(trxns)"
   ]
  },
  {
   "cell_type": "code",
   "execution_count": 36,
   "id": "23ecc184-01cb-4594-bfb4-21ad875bb0df",
   "metadata": {},
   "outputs": [
    {
     "name": "stderr",
     "output_type": "stream",
     "text": [
      "                                                                                \r"
     ]
    }
   ],
   "source": [
    "trxns_pd=trxns.toPandas()"
   ]
  },
  {
   "cell_type": "code",
   "execution_count": 39,
   "id": "07778b50-bb5e-499f-952a-1657e591a335",
   "metadata": {},
   "outputs": [
    {
     "data": {
      "text/plain": [
       "pandas.core.frame.DataFrame"
      ]
     },
     "execution_count": 39,
     "metadata": {},
     "output_type": "execute_result"
    }
   ],
   "source": [
    "type(trxns_pd)"
   ]
  },
  {
   "cell_type": "markdown",
   "id": "efe01f21-0bb8-44ed-b900-885d87406c5d",
   "metadata": {
    "jp-MarkdownHeadingCollapsed": true,
    "tags": []
   },
   "source": [
    "#### Describe Dataframe"
   ]
  },
  {
   "cell_type": "code",
   "execution_count": 6,
   "id": "4a708638-8a68-4d87-96be-12be200caed2",
   "metadata": {},
   "outputs": [
    {
     "name": "stderr",
     "output_type": "stream",
     "text": [
      "[Stage 2:>                                                          (0 + 1) / 1]\r"
     ]
    },
    {
     "name": "stdout",
     "output_type": "stream",
     "text": [
      "+-------+-----------------+----------------+--------+---------+--------+------+------------------+\n",
      "|summary|            index|            City|    Date|Card Type|Exp Type|Gender|            Amount|\n",
      "+-------+-----------------+----------------+--------+---------+--------+------+------------------+\n",
      "|  count|            26052|           26052|   26052|    26052|   26052| 26052|             26052|\n",
      "|   mean|          13025.5|            null|    null|     null|    null|  null| 156411.5374251497|\n",
      "| stddev|7520.708942646298|            null|    null|     null|    null|  null|103063.25428673124|\n",
      "|    min|                0| Achalpur, India|1-Apr-14|     Gold|   Bills|     F|              1005|\n",
      "|    max|            26051|Zunheboto, India|9-Sep-14|   Silver|  Travel|     M|            998077|\n",
      "+-------+-----------------+----------------+--------+---------+--------+------+------------------+\n",
      "\n"
     ]
    },
    {
     "name": "stderr",
     "output_type": "stream",
     "text": [
      "                                                                                \r"
     ]
    }
   ],
   "source": [
    "trxns.describe().show()"
   ]
  },
  {
   "cell_type": "code",
   "execution_count": 41,
   "id": "89875b5c-c011-416e-90bc-acc6e461f425",
   "metadata": {},
   "outputs": [
    {
     "data": {
      "text/html": [
       "<div>\n",
       "<style scoped>\n",
       "    .dataframe tbody tr th:only-of-type {\n",
       "        vertical-align: middle;\n",
       "    }\n",
       "\n",
       "    .dataframe tbody tr th {\n",
       "        vertical-align: top;\n",
       "    }\n",
       "\n",
       "    .dataframe thead th {\n",
       "        text-align: right;\n",
       "    }\n",
       "</style>\n",
       "<table border=\"1\" class=\"dataframe\">\n",
       "  <thead>\n",
       "    <tr style=\"text-align: right;\">\n",
       "      <th></th>\n",
       "      <th>index</th>\n",
       "      <th>Amount</th>\n",
       "    </tr>\n",
       "  </thead>\n",
       "  <tbody>\n",
       "    <tr>\n",
       "      <th>count</th>\n",
       "      <td>26052.000000</td>\n",
       "      <td>26052.000000</td>\n",
       "    </tr>\n",
       "    <tr>\n",
       "      <th>mean</th>\n",
       "      <td>13025.500000</td>\n",
       "      <td>156411.537425</td>\n",
       "    </tr>\n",
       "    <tr>\n",
       "      <th>std</th>\n",
       "      <td>7520.708943</td>\n",
       "      <td>103063.254287</td>\n",
       "    </tr>\n",
       "    <tr>\n",
       "      <th>min</th>\n",
       "      <td>0.000000</td>\n",
       "      <td>1005.000000</td>\n",
       "    </tr>\n",
       "    <tr>\n",
       "      <th>25%</th>\n",
       "      <td>6512.750000</td>\n",
       "      <td>77120.250000</td>\n",
       "    </tr>\n",
       "    <tr>\n",
       "      <th>50%</th>\n",
       "      <td>13025.500000</td>\n",
       "      <td>153106.500000</td>\n",
       "    </tr>\n",
       "    <tr>\n",
       "      <th>75%</th>\n",
       "      <td>19538.250000</td>\n",
       "      <td>228050.000000</td>\n",
       "    </tr>\n",
       "    <tr>\n",
       "      <th>max</th>\n",
       "      <td>26051.000000</td>\n",
       "      <td>998077.000000</td>\n",
       "    </tr>\n",
       "  </tbody>\n",
       "</table>\n",
       "</div>"
      ],
      "text/plain": [
       "              index         Amount\n",
       "count  26052.000000   26052.000000\n",
       "mean   13025.500000  156411.537425\n",
       "std     7520.708943  103063.254287\n",
       "min        0.000000    1005.000000\n",
       "25%     6512.750000   77120.250000\n",
       "50%    13025.500000  153106.500000\n",
       "75%    19538.250000  228050.000000\n",
       "max    26051.000000  998077.000000"
      ]
     },
     "execution_count": 41,
     "metadata": {},
     "output_type": "execute_result"
    }
   ],
   "source": [
    "trxns_pd.describe()"
   ]
  },
  {
   "cell_type": "code",
   "execution_count": 42,
   "id": "65a88e00-5367-4b04-b774-faacfe1a6565",
   "metadata": {},
   "outputs": [
    {
     "data": {
      "text/html": [
       "<div>\n",
       "<style scoped>\n",
       "    .dataframe tbody tr th:only-of-type {\n",
       "        vertical-align: middle;\n",
       "    }\n",
       "\n",
       "    .dataframe tbody tr th {\n",
       "        vertical-align: top;\n",
       "    }\n",
       "\n",
       "    .dataframe thead th {\n",
       "        text-align: right;\n",
       "    }\n",
       "</style>\n",
       "<table border=\"1\" class=\"dataframe\">\n",
       "  <thead>\n",
       "    <tr style=\"text-align: right;\">\n",
       "      <th></th>\n",
       "      <th>City</th>\n",
       "      <th>Date</th>\n",
       "      <th>Card Type</th>\n",
       "      <th>Exp Type</th>\n",
       "      <th>Gender</th>\n",
       "    </tr>\n",
       "  </thead>\n",
       "  <tbody>\n",
       "    <tr>\n",
       "      <th>count</th>\n",
       "      <td>26052</td>\n",
       "      <td>26052</td>\n",
       "      <td>26052</td>\n",
       "      <td>26052</td>\n",
       "      <td>26052</td>\n",
       "    </tr>\n",
       "    <tr>\n",
       "      <th>unique</th>\n",
       "      <td>986</td>\n",
       "      <td>600</td>\n",
       "      <td>4</td>\n",
       "      <td>6</td>\n",
       "      <td>2</td>\n",
       "    </tr>\n",
       "    <tr>\n",
       "      <th>top</th>\n",
       "      <td>Bengaluru, India</td>\n",
       "      <td>20-Sep-14</td>\n",
       "      <td>Silver</td>\n",
       "      <td>Food</td>\n",
       "      <td>F</td>\n",
       "    </tr>\n",
       "    <tr>\n",
       "      <th>freq</th>\n",
       "      <td>3552</td>\n",
       "      <td>65</td>\n",
       "      <td>6840</td>\n",
       "      <td>5463</td>\n",
       "      <td>13680</td>\n",
       "    </tr>\n",
       "  </tbody>\n",
       "</table>\n",
       "</div>"
      ],
      "text/plain": [
       "                    City       Date Card Type Exp Type Gender\n",
       "count              26052      26052     26052    26052  26052\n",
       "unique               986        600         4        6      2\n",
       "top     Bengaluru, India  20-Sep-14    Silver     Food      F\n",
       "freq                3552         65      6840     5463  13680"
      ]
     },
     "execution_count": 42,
     "metadata": {},
     "output_type": "execute_result"
    }
   ],
   "source": [
    "trxns_pd.describe(include='O')"
   ]
  },
  {
   "cell_type": "markdown",
   "id": "d4b38fb3-dd67-4b83-ad24-10310635587e",
   "metadata": {
    "jp-MarkdownHeadingCollapsed": true,
    "tags": []
   },
   "source": [
    "#### See first 2 rows "
   ]
  },
  {
   "cell_type": "code",
   "execution_count": 7,
   "id": "766e1fe8-d800-4223-b49f-e234545478bc",
   "metadata": {},
   "outputs": [
    {
     "name": "stdout",
     "output_type": "stream",
     "text": [
      "+-----+--------------------+---------+---------+--------+------+------+\n",
      "|index|                City|     Date|Card Type|Exp Type|Gender|Amount|\n",
      "+-----+--------------------+---------+---------+--------+------+------+\n",
      "|    0|        Delhi, India|29-Oct-14|     Gold|   Bills|     F| 82475|\n",
      "|    1|Greater Mumbai, I...|22-Aug-14| Platinum|   Bills|     F| 32555|\n",
      "+-----+--------------------+---------+---------+--------+------+------+\n",
      "only showing top 2 rows\n",
      "\n"
     ]
    }
   ],
   "source": [
    "trxns.show(2)"
   ]
  },
  {
   "cell_type": "code",
   "execution_count": 8,
   "id": "c843c587-2f54-42c3-b806-bf1c5fa84547",
   "metadata": {},
   "outputs": [
    {
     "name": "stdout",
     "output_type": "stream",
     "text": [
      "+-----+--------------------+---------+---------+--------+------+------+\n",
      "|index|                City|     Date|Card Type|Exp Type|Gender|Amount|\n",
      "+-----+--------------------+---------+---------+--------+------+------+\n",
      "|    0|        Delhi, India|29-Oct-14|     Gold|   Bills|     F| 82475|\n",
      "|    1|Greater Mumbai, I...|22-Aug-14| Platinum|   Bills|     F| 32555|\n",
      "+-----+--------------------+---------+---------+--------+------+------+\n",
      "\n"
     ]
    }
   ],
   "source": [
    "spark.sql(\"Select * from transactions limit 2\").show()"
   ]
  },
  {
   "cell_type": "markdown",
   "id": "96e4f88b-d3ff-4103-a68b-14bec35b939c",
   "metadata": {
    "jp-MarkdownHeadingCollapsed": true,
    "tags": []
   },
   "source": [
    "#### Find total no of records"
   ]
  },
  {
   "cell_type": "code",
   "execution_count": 9,
   "id": "77f7252c-d9c0-423e-b9d6-19313d72544f",
   "metadata": {},
   "outputs": [
    {
     "data": {
      "text/plain": [
       "26052"
      ]
     },
     "execution_count": 9,
     "metadata": {},
     "output_type": "execute_result"
    }
   ],
   "source": [
    "trxns.count()"
   ]
  },
  {
   "cell_type": "code",
   "execution_count": 10,
   "id": "39e498e1-698c-4f34-aaeb-9b8e7bc4611f",
   "metadata": {
    "tags": []
   },
   "outputs": [
    {
     "name": "stdout",
     "output_type": "stream",
     "text": [
      "+--------+\n",
      "|count(1)|\n",
      "+--------+\n",
      "|   26052|\n",
      "+--------+\n",
      "\n"
     ]
    }
   ],
   "source": [
    "spark.sql(\"Select count(1) from transactions\").show()"
   ]
  },
  {
   "cell_type": "markdown",
   "id": "3a4dc760-804f-421e-a3f1-4c70053cdbbb",
   "metadata": {
    "jp-MarkdownHeadingCollapsed": true,
    "tags": []
   },
   "source": [
    "#### Find min max of amount"
   ]
  },
  {
   "cell_type": "code",
   "execution_count": 11,
   "id": "606dbff9-66dc-43e3-b3ea-95c7d6046c72",
   "metadata": {},
   "outputs": [
    {
     "name": "stdout",
     "output_type": "stream",
     "text": [
      "Amount Minimum Value -> 1005\n",
      "Amount Maximum Value -> 998077\n",
      "Mean Value -> 156411.54\n"
     ]
    }
   ],
   "source": [
    "print(\"Amount Minimum Value -> \" + str(trxns.agg({'Amount': 'min'}).collect()[0][0]))\n",
    "print(\"Amount Maximum Value -> \" + str(trxns.agg({'Amount': 'max'}).collect()[0][0]))\n",
    "print(\"Mean Value -> \" + str(\"{:.2f}\".format(trxns.agg({'Amount': 'mean'}).collect()[0][0])))\n",
    "#print(\"Amount Maximum Value -> \" + trxns.groupby('Amount').median())"
   ]
  },
  {
   "cell_type": "code",
   "execution_count": 24,
   "id": "00f813d2-a63a-4fda-9fa6-95d96e36704f",
   "metadata": {},
   "outputs": [
    {
     "name": "stdout",
     "output_type": "stream",
     "text": [
      "+---------+---------+----------+\n",
      "|min_value|max_value|mean_value|\n",
      "+---------+---------+----------+\n",
      "|     1005|   998077| 156411.54|\n",
      "+---------+---------+----------+\n",
      "\n"
     ]
    }
   ],
   "source": [
    "spark.sql('''Select \n",
    "            min(Amount) as min_value,  \n",
    "            max(Amount) as max_value,\n",
    "            round(mean(Amount),2) as mean_value\n",
    "          from transactions''').show()"
   ]
  },
  {
   "cell_type": "markdown",
   "id": "9191ece0-cee8-4a08-827c-e6cf8e6dbe0a",
   "metadata": {
    "jp-MarkdownHeadingCollapsed": true,
    "tags": []
   },
   "source": [
    "#### Top 5 days having most transactions"
   ]
  },
  {
   "cell_type": "code",
   "execution_count": 65,
   "id": "c62cfb10-701f-4763-b678-5226aff830be",
   "metadata": {},
   "outputs": [
    {
     "name": "stdout",
     "output_type": "stream",
     "text": [
      "+---------+---+\n",
      "|     Date|cnt|\n",
      "+---------+---+\n",
      "|20-Sep-14| 65|\n",
      "|11-Aug-14| 61|\n",
      "|15-Nov-14| 61|\n",
      "|21-Dec-13| 61|\n",
      "|20-Feb-15| 60|\n",
      "+---------+---+\n",
      "\n"
     ]
    }
   ],
   "source": [
    "spark.sql('''Select \n",
    "            Date,\n",
    "            count(1) as cnt\n",
    "          from transactions\n",
    "          Group by Date\n",
    "          order by cnt desc\n",
    "          limit 5\n",
    "          ''').show()"
   ]
  },
  {
   "cell_type": "code",
   "execution_count": 64,
   "id": "be07740d-6ef1-4322-8d2c-5853dbdfc055",
   "metadata": {},
   "outputs": [
    {
     "name": "stdout",
     "output_type": "stream",
     "text": [
      "+---------+-----+\n",
      "|     Date|count|\n",
      "+---------+-----+\n",
      "|20-Sep-14|   65|\n",
      "|11-Aug-14|   61|\n",
      "|15-Nov-14|   61|\n",
      "|21-Dec-13|   61|\n",
      "|20-Feb-15|   60|\n",
      "+---------+-----+\n",
      "\n"
     ]
    }
   ],
   "source": [
    "trxns\\\n",
    "    .groupby('Date')\\\n",
    "    .count()\\\n",
    "    .sort('count',ascending=False)\\\n",
    "    .limit(5)\\\n",
    "    .show()"
   ]
  },
  {
   "cell_type": "markdown",
   "id": "ba33c5af-dc07-4a46-a7bf-39a1c076392d",
   "metadata": {
    "jp-MarkdownHeadingCollapsed": true,
    "tags": []
   },
   "source": [
    "#### Top 5 citys having most transactions"
   ]
  },
  {
   "cell_type": "code",
   "execution_count": 68,
   "id": "31847b9f-12d6-4f3b-822d-5cb6bf1c5eab",
   "metadata": {},
   "outputs": [
    {
     "name": "stdout",
     "output_type": "stream",
     "text": [
      "+--------------------+----+\n",
      "|                city| cnt|\n",
      "+--------------------+----+\n",
      "|    Bengaluru, India|3552|\n",
      "|Greater Mumbai, I...|3493|\n",
      "|    Ahmedabad, India|3491|\n",
      "|        Delhi, India|3482|\n",
      "|    Hyderabad, India| 784|\n",
      "+--------------------+----+\n",
      "\n"
     ]
    }
   ],
   "source": [
    "spark.sql('''Select \n",
    "            city,\n",
    "            count(1) as cnt\n",
    "          from transactions\n",
    "          Group by city\n",
    "          order by cnt desc\n",
    "          limit 5\n",
    "          ''').show()"
   ]
  },
  {
   "cell_type": "code",
   "execution_count": 69,
   "id": "115d7b23-9217-418c-ae39-1891587e4681",
   "metadata": {},
   "outputs": [
    {
     "name": "stdout",
     "output_type": "stream",
     "text": [
      "+--------------------+-----+\n",
      "|                city|count|\n",
      "+--------------------+-----+\n",
      "|    Bengaluru, India| 3552|\n",
      "|Greater Mumbai, I...| 3493|\n",
      "|    Ahmedabad, India| 3491|\n",
      "|        Delhi, India| 3482|\n",
      "|    Hyderabad, India|  784|\n",
      "+--------------------+-----+\n",
      "\n"
     ]
    }
   ],
   "source": [
    "trxns\\\n",
    "    .groupby('city')\\\n",
    "    .count()\\\n",
    "    .sort('count',ascending=False)\\\n",
    "    .limit(5)\\\n",
    "    .show()"
   ]
  },
  {
   "cell_type": "markdown",
   "id": "95a255ba-39f4-4a91-b22b-a9676e9cb9b5",
   "metadata": {
    "jp-MarkdownHeadingCollapsed": true,
    "tags": []
   },
   "source": [
    "#### Gender Distribution"
   ]
  },
  {
   "cell_type": "code",
   "execution_count": 79,
   "id": "d879df51-0173-4b28-b8fb-bb0d5f0bb6f4",
   "metadata": {},
   "outputs": [
    {
     "name": "stdout",
     "output_type": "stream",
     "text": [
      "+------+-----+\n",
      "|Gender|  cnt|\n",
      "+------+-----+\n",
      "|     F|13680|\n",
      "|     M|12372|\n",
      "+------+-----+\n",
      "\n"
     ]
    }
   ],
   "source": [
    "spark.sql('''Select \n",
    "            `Gender`,\n",
    "            count(1) as cnt\n",
    "          from transactions\n",
    "          Group by 1\n",
    "          order by cnt desc\n",
    "          ''').show()"
   ]
  },
  {
   "cell_type": "code",
   "execution_count": 80,
   "id": "d07f86d4-2f30-4ca0-a69d-4f0f94513589",
   "metadata": {},
   "outputs": [
    {
     "name": "stdout",
     "output_type": "stream",
     "text": [
      "+------+-----+\n",
      "|Gender|count|\n",
      "+------+-----+\n",
      "|     F|13680|\n",
      "|     M|12372|\n",
      "+------+-----+\n",
      "\n"
     ]
    }
   ],
   "source": [
    "trxns\\\n",
    "    .groupby('Gender')\\\n",
    "    .count()\\\n",
    "    .sort('count',ascending=False)\\\n",
    "    .show()"
   ]
  },
  {
   "cell_type": "markdown",
   "id": "a0a120d4-6fb6-4c6d-b646-00e88ee22b79",
   "metadata": {
    "jp-MarkdownHeadingCollapsed": true,
    "tags": []
   },
   "source": [
    "#### Card Type used distribution highest to lowest "
   ]
  },
  {
   "cell_type": "code",
   "execution_count": 73,
   "id": "274e0971-82a2-400e-bd0b-b9bb650194cf",
   "metadata": {},
   "outputs": [
    {
     "name": "stdout",
     "output_type": "stream",
     "text": [
      "+---------+----+\n",
      "|Card Type| cnt|\n",
      "+---------+----+\n",
      "|   Silver|6840|\n",
      "|Signature|6447|\n",
      "| Platinum|6398|\n",
      "|     Gold|6367|\n",
      "+---------+----+\n",
      "\n"
     ]
    }
   ],
   "source": [
    "spark.sql('''Select \n",
    "            `Card Type`,\n",
    "            count(1) as cnt\n",
    "          from transactions\n",
    "          Group by 1\n",
    "          order by cnt desc\n",
    "          ''').show()"
   ]
  },
  {
   "cell_type": "code",
   "execution_count": 75,
   "id": "89bff609-d020-4cec-a238-0642c42ad469",
   "metadata": {},
   "outputs": [
    {
     "name": "stdout",
     "output_type": "stream",
     "text": [
      "+---------+-----+\n",
      "|Card Type|count|\n",
      "+---------+-----+\n",
      "|   Silver| 6840|\n",
      "|Signature| 6447|\n",
      "| Platinum| 6398|\n",
      "|     Gold| 6367|\n",
      "+---------+-----+\n",
      "\n"
     ]
    }
   ],
   "source": [
    "trxns\\\n",
    "    .groupby('Card Type')\\\n",
    "    .count()\\\n",
    "    .sort('count',ascending=False)\\\n",
    "    .show()"
   ]
  },
  {
   "cell_type": "markdown",
   "id": "b6d8ce86-916e-4640-b1aa-80ccb03cef08",
   "metadata": {
    "jp-MarkdownHeadingCollapsed": true,
    "tags": []
   },
   "source": [
    "#### Exp Type distribution highest to lowest "
   ]
  },
  {
   "cell_type": "code",
   "execution_count": 76,
   "id": "8f9bc9db-a550-4176-9e98-f3267eea0df5",
   "metadata": {},
   "outputs": [
    {
     "name": "stdout",
     "output_type": "stream",
     "text": [
      "+-------------+----+\n",
      "|     Exp Type| cnt|\n",
      "+-------------+----+\n",
      "|         Food|5463|\n",
      "|         Fuel|5257|\n",
      "|        Bills|5078|\n",
      "|Entertainment|4762|\n",
      "|      Grocery|4754|\n",
      "|       Travel| 738|\n",
      "+-------------+----+\n",
      "\n"
     ]
    }
   ],
   "source": [
    "spark.sql('''Select \n",
    "            `Exp Type`,\n",
    "            count(1) as cnt\n",
    "          from transactions\n",
    "          Group by 1\n",
    "          order by cnt desc\n",
    "          ''').show()"
   ]
  },
  {
   "cell_type": "code",
   "execution_count": 77,
   "id": "2e482a13-8d60-425c-9668-7e49c3c383c5",
   "metadata": {},
   "outputs": [
    {
     "name": "stdout",
     "output_type": "stream",
     "text": [
      "+-------------+-----+\n",
      "|     Exp Type|count|\n",
      "+-------------+-----+\n",
      "|         Food| 5463|\n",
      "|         Fuel| 5257|\n",
      "|        Bills| 5078|\n",
      "|Entertainment| 4762|\n",
      "|      Grocery| 4754|\n",
      "|       Travel|  738|\n",
      "+-------------+-----+\n",
      "\n"
     ]
    }
   ],
   "source": [
    "trxns\\\n",
    "    .groupby('Exp Type')\\\n",
    "    .count()\\\n",
    "    .sort('count',ascending=False)\\\n",
    "    .show()"
   ]
  },
  {
   "cell_type": "markdown",
   "id": "176a62a6-692d-4056-b9eb-3dd1bc4fb338",
   "metadata": {
    "tags": []
   },
   "source": [
    "#### Stop Spark"
   ]
  },
  {
   "cell_type": "code",
   "execution_count": 81,
   "id": "0a0978d4-3d59-4c2e-8e8f-f00cd4ef1184",
   "metadata": {},
   "outputs": [],
   "source": [
    "spark.stop()"
   ]
  }
 ],
 "metadata": {
  "kernelspec": {
   "display_name": "Python 3 (ipykernel)",
   "language": "python",
   "name": "python3"
  },
  "language_info": {
   "codemirror_mode": {
    "name": "ipython",
    "version": 3
   },
   "file_extension": ".py",
   "mimetype": "text/x-python",
   "name": "python",
   "nbconvert_exporter": "python",
   "pygments_lexer": "ipython3",
   "version": "3.9.13"
  }
 },
 "nbformat": 4,
 "nbformat_minor": 5
}
