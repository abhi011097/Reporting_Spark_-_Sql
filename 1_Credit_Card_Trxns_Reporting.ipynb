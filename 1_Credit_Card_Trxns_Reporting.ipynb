{
 "cells": [
  {
   "cell_type": "code",
   "execution_count": 51,
   "id": "c22c785a-401d-458b-b37a-af1c7449b58b",
   "metadata": {},
   "outputs": [],
   "source": [
    "from pyspark.sql import SparkSession\n",
    "import numpy as np # linear algebra\n",
    "import pandas as pd # data processing , reading the csv file (pd.read_csv)\n",
    "import matplotlib.pyplot as plt\n",
    "import seaborn as sns\n",
    "import warnings\n",
    "import os\n",
    "from pyspark.sql import functions"
   ]
  },
  {
   "cell_type": "code",
   "execution_count": 34,
   "id": "0416ea12-c9ea-408b-a4e1-00398f70a28c",
   "metadata": {},
   "outputs": [],
   "source": [
    "%matplotlib inline\n",
    "warnings.filterwarnings(\"ignore\")\n",
    "\n",
    "spark = SparkSession.builder \\\n",
    "          .master(\"local[*]\") \\\n",
    "          .appName(\"Credit Card Analysis\") \\\n",
    "          .getOrCreate()\n",
    "\n",
    "spark.sparkContext.setLogLevel(\"ERROR\")"
   ]
  },
  {
   "cell_type": "code",
   "execution_count": 3,
   "id": "91472587-f332-4129-bd01-ce15ccad89e9",
   "metadata": {},
   "outputs": [
    {
     "data": {
      "text/html": [
       "\n",
       "            <div>\n",
       "                <p><b>SparkSession - in-memory</b></p>\n",
       "                \n",
       "        <div>\n",
       "            <p><b>SparkContext</b></p>\n",
       "\n",
       "            <p><a href=\"http://192.168.1.5:4040\">Spark UI</a></p>\n",
       "\n",
       "            <dl>\n",
       "              <dt>Version</dt>\n",
       "                <dd><code>v3.2.1</code></dd>\n",
       "              <dt>Master</dt>\n",
       "                <dd><code>local[*]</code></dd>\n",
       "              <dt>AppName</dt>\n",
       "                <dd><code>Credit Card Analysis</code></dd>\n",
       "            </dl>\n",
       "        </div>\n",
       "        \n",
       "            </div>\n",
       "        "
      ],
      "text/plain": [
       "<pyspark.sql.session.SparkSession at 0x7f86d3302d00>"
      ]
     },
     "execution_count": 3,
     "metadata": {},
     "output_type": "execute_result"
    }
   ],
   "source": [
    "spark"
   ]
  },
  {
   "cell_type": "code",
   "execution_count": 4,
   "id": "318a1de2-709f-4e04-aaf9-df62f62a9e47",
   "metadata": {},
   "outputs": [],
   "source": [
    "trxns = spark\\\n",
    "        .read\\\n",
    "        .options(header=\"true\",inferSchema='True')\\\n",
    "        .csv(\"/Users/abhi011097/Workspace/Dataset_Analysis/1_Credit_Card_Analysis/Dataset/Credit_card_transactions.csv\")\n",
    "\n",
    "trxns.registerTempTable(\"transactions\")"
   ]
  },
  {
   "cell_type": "code",
   "execution_count": 5,
   "id": "e0b93f9a-23d0-474e-9824-e18716f02f17",
   "metadata": {},
   "outputs": [
    {
     "name": "stdout",
     "output_type": "stream",
     "text": [
      "root\n",
      " |-- index: integer (nullable = true)\n",
      " |-- City: string (nullable = true)\n",
      " |-- Date: string (nullable = true)\n",
      " |-- Card Type: string (nullable = true)\n",
      " |-- Exp Type: string (nullable = true)\n",
      " |-- Gender: string (nullable = true)\n",
      " |-- Amount: integer (nullable = true)\n",
      "\n"
     ]
    }
   ],
   "source": [
    "trxns.printSchema()"
   ]
  },
  {
   "cell_type": "code",
   "execution_count": 6,
   "id": "120d866d-dddc-4272-8c60-2add3f74c32a",
   "metadata": {},
   "outputs": [
    {
     "data": {
      "text/plain": [
       "pyspark.sql.dataframe.DataFrame"
      ]
     },
     "execution_count": 6,
     "metadata": {},
     "output_type": "execute_result"
    }
   ],
   "source": [
    "type(trxns)"
   ]
  },
  {
   "cell_type": "code",
   "execution_count": 7,
   "id": "23ecc184-01cb-4594-bfb4-21ad875bb0df",
   "metadata": {},
   "outputs": [],
   "source": [
    "trxns_pd=trxns.toPandas()"
   ]
  },
  {
   "cell_type": "code",
   "execution_count": 8,
   "id": "07778b50-bb5e-499f-952a-1657e591a335",
   "metadata": {},
   "outputs": [
    {
     "data": {
      "text/plain": [
       "pandas.core.frame.DataFrame"
      ]
     },
     "execution_count": 8,
     "metadata": {},
     "output_type": "execute_result"
    }
   ],
   "source": [
    "type(trxns_pd)"
   ]
  },
  {
   "cell_type": "markdown",
   "id": "efe01f21-0bb8-44ed-b900-885d87406c5d",
   "metadata": {
    "tags": []
   },
   "source": [
    "#### Describe Dataframe"
   ]
  },
  {
   "cell_type": "code",
   "execution_count": 9,
   "id": "4a708638-8a68-4d87-96be-12be200caed2",
   "metadata": {},
   "outputs": [
    {
     "name": "stderr",
     "output_type": "stream",
     "text": [
      "                                                                                \r"
     ]
    },
    {
     "name": "stdout",
     "output_type": "stream",
     "text": [
      "+-------+-----------------+----------------+--------+---------+--------+------+------------------+\n",
      "|summary|            index|            City|    Date|Card Type|Exp Type|Gender|            Amount|\n",
      "+-------+-----------------+----------------+--------+---------+--------+------+------------------+\n",
      "|  count|            26052|           26052|   26052|    26052|   26052| 26052|             26052|\n",
      "|   mean|          13025.5|            null|    null|     null|    null|  null| 156411.5374251497|\n",
      "| stddev|7520.708942646298|            null|    null|     null|    null|  null|103063.25428673124|\n",
      "|    min|                0| Achalpur, India|1-Apr-14|     Gold|   Bills|     F|              1005|\n",
      "|    max|            26051|Zunheboto, India|9-Sep-14|   Silver|  Travel|     M|            998077|\n",
      "+-------+-----------------+----------------+--------+---------+--------+------+------------------+\n",
      "\n"
     ]
    }
   ],
   "source": [
    "trxns.describe().show()"
   ]
  },
  {
   "cell_type": "code",
   "execution_count": 10,
   "id": "89875b5c-c011-416e-90bc-acc6e461f425",
   "metadata": {},
   "outputs": [
    {
     "data": {
      "text/html": [
       "<div>\n",
       "<style scoped>\n",
       "    .dataframe tbody tr th:only-of-type {\n",
       "        vertical-align: middle;\n",
       "    }\n",
       "\n",
       "    .dataframe tbody tr th {\n",
       "        vertical-align: top;\n",
       "    }\n",
       "\n",
       "    .dataframe thead th {\n",
       "        text-align: right;\n",
       "    }\n",
       "</style>\n",
       "<table border=\"1\" class=\"dataframe\">\n",
       "  <thead>\n",
       "    <tr style=\"text-align: right;\">\n",
       "      <th></th>\n",
       "      <th>index</th>\n",
       "      <th>Amount</th>\n",
       "    </tr>\n",
       "  </thead>\n",
       "  <tbody>\n",
       "    <tr>\n",
       "      <th>count</th>\n",
       "      <td>26052.000000</td>\n",
       "      <td>26052.000000</td>\n",
       "    </tr>\n",
       "    <tr>\n",
       "      <th>mean</th>\n",
       "      <td>13025.500000</td>\n",
       "      <td>156411.537425</td>\n",
       "    </tr>\n",
       "    <tr>\n",
       "      <th>std</th>\n",
       "      <td>7520.708943</td>\n",
       "      <td>103063.254287</td>\n",
       "    </tr>\n",
       "    <tr>\n",
       "      <th>min</th>\n",
       "      <td>0.000000</td>\n",
       "      <td>1005.000000</td>\n",
       "    </tr>\n",
       "    <tr>\n",
       "      <th>25%</th>\n",
       "      <td>6512.750000</td>\n",
       "      <td>77120.250000</td>\n",
       "    </tr>\n",
       "    <tr>\n",
       "      <th>50%</th>\n",
       "      <td>13025.500000</td>\n",
       "      <td>153106.500000</td>\n",
       "    </tr>\n",
       "    <tr>\n",
       "      <th>75%</th>\n",
       "      <td>19538.250000</td>\n",
       "      <td>228050.000000</td>\n",
       "    </tr>\n",
       "    <tr>\n",
       "      <th>max</th>\n",
       "      <td>26051.000000</td>\n",
       "      <td>998077.000000</td>\n",
       "    </tr>\n",
       "  </tbody>\n",
       "</table>\n",
       "</div>"
      ],
      "text/plain": [
       "              index         Amount\n",
       "count  26052.000000   26052.000000\n",
       "mean   13025.500000  156411.537425\n",
       "std     7520.708943  103063.254287\n",
       "min        0.000000    1005.000000\n",
       "25%     6512.750000   77120.250000\n",
       "50%    13025.500000  153106.500000\n",
       "75%    19538.250000  228050.000000\n",
       "max    26051.000000  998077.000000"
      ]
     },
     "execution_count": 10,
     "metadata": {},
     "output_type": "execute_result"
    }
   ],
   "source": [
    "trxns_pd.describe()"
   ]
  },
  {
   "cell_type": "code",
   "execution_count": 11,
   "id": "65a88e00-5367-4b04-b774-faacfe1a6565",
   "metadata": {},
   "outputs": [
    {
     "data": {
      "text/html": [
       "<div>\n",
       "<style scoped>\n",
       "    .dataframe tbody tr th:only-of-type {\n",
       "        vertical-align: middle;\n",
       "    }\n",
       "\n",
       "    .dataframe tbody tr th {\n",
       "        vertical-align: top;\n",
       "    }\n",
       "\n",
       "    .dataframe thead th {\n",
       "        text-align: right;\n",
       "    }\n",
       "</style>\n",
       "<table border=\"1\" class=\"dataframe\">\n",
       "  <thead>\n",
       "    <tr style=\"text-align: right;\">\n",
       "      <th></th>\n",
       "      <th>City</th>\n",
       "      <th>Date</th>\n",
       "      <th>Card Type</th>\n",
       "      <th>Exp Type</th>\n",
       "      <th>Gender</th>\n",
       "    </tr>\n",
       "  </thead>\n",
       "  <tbody>\n",
       "    <tr>\n",
       "      <th>count</th>\n",
       "      <td>26052</td>\n",
       "      <td>26052</td>\n",
       "      <td>26052</td>\n",
       "      <td>26052</td>\n",
       "      <td>26052</td>\n",
       "    </tr>\n",
       "    <tr>\n",
       "      <th>unique</th>\n",
       "      <td>986</td>\n",
       "      <td>600</td>\n",
       "      <td>4</td>\n",
       "      <td>6</td>\n",
       "      <td>2</td>\n",
       "    </tr>\n",
       "    <tr>\n",
       "      <th>top</th>\n",
       "      <td>Bengaluru, India</td>\n",
       "      <td>20-Sep-14</td>\n",
       "      <td>Silver</td>\n",
       "      <td>Food</td>\n",
       "      <td>F</td>\n",
       "    </tr>\n",
       "    <tr>\n",
       "      <th>freq</th>\n",
       "      <td>3552</td>\n",
       "      <td>65</td>\n",
       "      <td>6840</td>\n",
       "      <td>5463</td>\n",
       "      <td>13680</td>\n",
       "    </tr>\n",
       "  </tbody>\n",
       "</table>\n",
       "</div>"
      ],
      "text/plain": [
       "                    City       Date Card Type Exp Type Gender\n",
       "count              26052      26052     26052    26052  26052\n",
       "unique               986        600         4        6      2\n",
       "top     Bengaluru, India  20-Sep-14    Silver     Food      F\n",
       "freq                3552         65      6840     5463  13680"
      ]
     },
     "execution_count": 11,
     "metadata": {},
     "output_type": "execute_result"
    }
   ],
   "source": [
    "trxns_pd.describe(include='O')"
   ]
  },
  {
   "cell_type": "markdown",
   "id": "d4b38fb3-dd67-4b83-ad24-10310635587e",
   "metadata": {
    "tags": []
   },
   "source": [
    "#### See first 2 rows "
   ]
  },
  {
   "cell_type": "code",
   "execution_count": 12,
   "id": "766e1fe8-d800-4223-b49f-e234545478bc",
   "metadata": {},
   "outputs": [
    {
     "name": "stdout",
     "output_type": "stream",
     "text": [
      "+-----+--------------------+---------+---------+--------+------+------+\n",
      "|index|                City|     Date|Card Type|Exp Type|Gender|Amount|\n",
      "+-----+--------------------+---------+---------+--------+------+------+\n",
      "|    0|        Delhi, India|29-Oct-14|     Gold|   Bills|     F| 82475|\n",
      "|    1|Greater Mumbai, I...|22-Aug-14| Platinum|   Bills|     F| 32555|\n",
      "+-----+--------------------+---------+---------+--------+------+------+\n",
      "only showing top 2 rows\n",
      "\n"
     ]
    }
   ],
   "source": [
    "trxns.show(2)"
   ]
  },
  {
   "cell_type": "code",
   "execution_count": 13,
   "id": "c843c587-2f54-42c3-b806-bf1c5fa84547",
   "metadata": {},
   "outputs": [
    {
     "name": "stdout",
     "output_type": "stream",
     "text": [
      "+-----+--------------------+---------+---------+--------+------+------+\n",
      "|index|                City|     Date|Card Type|Exp Type|Gender|Amount|\n",
      "+-----+--------------------+---------+---------+--------+------+------+\n",
      "|    0|        Delhi, India|29-Oct-14|     Gold|   Bills|     F| 82475|\n",
      "|    1|Greater Mumbai, I...|22-Aug-14| Platinum|   Bills|     F| 32555|\n",
      "+-----+--------------------+---------+---------+--------+------+------+\n",
      "\n"
     ]
    }
   ],
   "source": [
    "spark.sql(\"Select * from transactions limit 2\").show()"
   ]
  },
  {
   "cell_type": "markdown",
   "id": "96e4f88b-d3ff-4103-a68b-14bec35b939c",
   "metadata": {
    "tags": []
   },
   "source": [
    "#### Find total no of records"
   ]
  },
  {
   "cell_type": "code",
   "execution_count": 14,
   "id": "77f7252c-d9c0-423e-b9d6-19313d72544f",
   "metadata": {},
   "outputs": [
    {
     "data": {
      "text/plain": [
       "26052"
      ]
     },
     "execution_count": 14,
     "metadata": {},
     "output_type": "execute_result"
    }
   ],
   "source": [
    "trxns.count()"
   ]
  },
  {
   "cell_type": "code",
   "execution_count": 15,
   "id": "39e498e1-698c-4f34-aaeb-9b8e7bc4611f",
   "metadata": {
    "tags": []
   },
   "outputs": [
    {
     "name": "stdout",
     "output_type": "stream",
     "text": [
      "+--------+\n",
      "|count(1)|\n",
      "+--------+\n",
      "|   26052|\n",
      "+--------+\n",
      "\n"
     ]
    }
   ],
   "source": [
    "spark.sql(\"Select count(1) from transactions\").show()"
   ]
  },
  {
   "cell_type": "markdown",
   "id": "3a4dc760-804f-421e-a3f1-4c70053cdbbb",
   "metadata": {
    "tags": []
   },
   "source": [
    "#### Find min max of amount"
   ]
  },
  {
   "cell_type": "code",
   "execution_count": 16,
   "id": "606dbff9-66dc-43e3-b3ea-95c7d6046c72",
   "metadata": {},
   "outputs": [
    {
     "name": "stdout",
     "output_type": "stream",
     "text": [
      "Amount Minimum Value -> 1005\n",
      "Amount Maximum Value -> 998077\n",
      "Mean Value -> 156411.54\n"
     ]
    }
   ],
   "source": [
    "print(\"Amount Minimum Value -> \" + str(trxns.agg({'Amount': 'min'}).collect()[0][0]))\n",
    "print(\"Amount Maximum Value -> \" + str(trxns.agg({'Amount': 'max'}).collect()[0][0]))\n",
    "print(\"Mean Value -> \" + str(\"{:.2f}\".format(trxns.agg({'Amount': 'mean'}).collect()[0][0])))\n",
    "#print(\"Amount Maximum Value -> \" + trxns.groupby('Amount').median())"
   ]
  },
  {
   "cell_type": "code",
   "execution_count": 17,
   "id": "00f813d2-a63a-4fda-9fa6-95d96e36704f",
   "metadata": {},
   "outputs": [
    {
     "name": "stdout",
     "output_type": "stream",
     "text": [
      "+---------+---------+----------+\n",
      "|min_value|max_value|mean_value|\n",
      "+---------+---------+----------+\n",
      "|     1005|   998077| 156411.54|\n",
      "+---------+---------+----------+\n",
      "\n"
     ]
    }
   ],
   "source": [
    "spark.sql('''Select \n",
    "            min(Amount) as min_value,  \n",
    "            max(Amount) as max_value,\n",
    "            round(mean(Amount),2) as mean_value\n",
    "          from transactions''').show()"
   ]
  },
  {
   "cell_type": "markdown",
   "id": "9191ece0-cee8-4a08-827c-e6cf8e6dbe0a",
   "metadata": {
    "tags": []
   },
   "source": [
    "#### Top 5 days having most transactions"
   ]
  },
  {
   "cell_type": "code",
   "execution_count": 18,
   "id": "c62cfb10-701f-4763-b678-5226aff830be",
   "metadata": {},
   "outputs": [
    {
     "name": "stdout",
     "output_type": "stream",
     "text": [
      "+---------+---+\n",
      "|     Date|cnt|\n",
      "+---------+---+\n",
      "|20-Sep-14| 65|\n",
      "|11-Aug-14| 61|\n",
      "|15-Nov-14| 61|\n",
      "|21-Dec-13| 61|\n",
      "|20-Feb-15| 60|\n",
      "+---------+---+\n",
      "\n"
     ]
    }
   ],
   "source": [
    "spark.sql('''Select \n",
    "            Date,\n",
    "            count(1) as cnt\n",
    "          from transactions\n",
    "          Group by Date\n",
    "          order by cnt desc\n",
    "          limit 5\n",
    "          ''').show()"
   ]
  },
  {
   "cell_type": "code",
   "execution_count": 19,
   "id": "be07740d-6ef1-4322-8d2c-5853dbdfc055",
   "metadata": {},
   "outputs": [
    {
     "name": "stdout",
     "output_type": "stream",
     "text": [
      "+---------+---+\n",
      "|     Date| ct|\n",
      "+---------+---+\n",
      "|20-Sep-14| 65|\n",
      "|11-Aug-14| 61|\n",
      "|15-Nov-14| 61|\n",
      "|21-Dec-13| 61|\n",
      "|20-Feb-15| 60|\n",
      "+---------+---+\n",
      "\n"
     ]
    }
   ],
   "source": [
    "trxns\\\n",
    "    .groupby('Date')\\\n",
    "    .count()\\\n",
    "    .withColumnRenamed('count','ct')\\\n",
    "    .sort('ct',ascending=False)\\\n",
    "    .limit(5)\\\n",
    "    .show()"
   ]
  },
  {
   "cell_type": "markdown",
   "id": "ba33c5af-dc07-4a46-a7bf-39a1c076392d",
   "metadata": {
    "tags": []
   },
   "source": [
    "#### Top 5 citys having most transactions"
   ]
  },
  {
   "cell_type": "code",
   "execution_count": 20,
   "id": "31847b9f-12d6-4f3b-822d-5cb6bf1c5eab",
   "metadata": {},
   "outputs": [
    {
     "name": "stdout",
     "output_type": "stream",
     "text": [
      "+--------------------+----+\n",
      "|                city| cnt|\n",
      "+--------------------+----+\n",
      "|    Bengaluru, India|3552|\n",
      "|Greater Mumbai, I...|3493|\n",
      "|    Ahmedabad, India|3491|\n",
      "|        Delhi, India|3482|\n",
      "|    Hyderabad, India| 784|\n",
      "+--------------------+----+\n",
      "\n"
     ]
    }
   ],
   "source": [
    "spark.sql('''Select \n",
    "            city,\n",
    "            count(1) as cnt\n",
    "          from transactions\n",
    "          Group by city\n",
    "          order by cnt desc\n",
    "          limit 5\n",
    "          ''').show()"
   ]
  },
  {
   "cell_type": "code",
   "execution_count": 21,
   "id": "115d7b23-9217-418c-ae39-1891587e4681",
   "metadata": {},
   "outputs": [
    {
     "name": "stdout",
     "output_type": "stream",
     "text": [
      "+--------------------+-----+\n",
      "|                city|count|\n",
      "+--------------------+-----+\n",
      "|    Bengaluru, India| 3552|\n",
      "|Greater Mumbai, I...| 3493|\n",
      "|    Ahmedabad, India| 3491|\n",
      "|        Delhi, India| 3482|\n",
      "|    Hyderabad, India|  784|\n",
      "+--------------------+-----+\n",
      "\n"
     ]
    }
   ],
   "source": [
    "trxns\\\n",
    "    .groupby('city')\\\n",
    "    .count()\\\n",
    "    .sort('count',ascending=False)\\\n",
    "    .limit(5)\\\n",
    "    .show()"
   ]
  },
  {
   "cell_type": "markdown",
   "id": "95a255ba-39f4-4a91-b22b-a9676e9cb9b5",
   "metadata": {
    "tags": []
   },
   "source": [
    "#### Gender Distribution"
   ]
  },
  {
   "cell_type": "code",
   "execution_count": 22,
   "id": "d879df51-0173-4b28-b8fb-bb0d5f0bb6f4",
   "metadata": {},
   "outputs": [
    {
     "name": "stdout",
     "output_type": "stream",
     "text": [
      "+------+-----+\n",
      "|Gender|  cnt|\n",
      "+------+-----+\n",
      "|     F|13680|\n",
      "|     M|12372|\n",
      "+------+-----+\n",
      "\n"
     ]
    }
   ],
   "source": [
    "spark.sql('''Select \n",
    "            `Gender`,\n",
    "            count(1) as cnt\n",
    "          from transactions\n",
    "          Group by 1\n",
    "          order by cnt desc\n",
    "          ''').show()"
   ]
  },
  {
   "cell_type": "code",
   "execution_count": 23,
   "id": "d07f86d4-2f30-4ca0-a69d-4f0f94513589",
   "metadata": {},
   "outputs": [
    {
     "name": "stdout",
     "output_type": "stream",
     "text": [
      "+------+-----+\n",
      "|Gender|count|\n",
      "+------+-----+\n",
      "|     F|13680|\n",
      "|     M|12372|\n",
      "+------+-----+\n",
      "\n"
     ]
    }
   ],
   "source": [
    "trxns\\\n",
    "    .groupby('Gender')\\\n",
    "    .count()\\\n",
    "    .sort('count',ascending=False)\\\n",
    "    .show()"
   ]
  },
  {
   "cell_type": "markdown",
   "id": "a0a120d4-6fb6-4c6d-b646-00e88ee22b79",
   "metadata": {
    "tags": []
   },
   "source": [
    "#### Card Type used distribution highest to lowest "
   ]
  },
  {
   "cell_type": "code",
   "execution_count": 24,
   "id": "274e0971-82a2-400e-bd0b-b9bb650194cf",
   "metadata": {},
   "outputs": [
    {
     "name": "stdout",
     "output_type": "stream",
     "text": [
      "+---------+----+\n",
      "|Card Type| cnt|\n",
      "+---------+----+\n",
      "|   Silver|6840|\n",
      "|Signature|6447|\n",
      "| Platinum|6398|\n",
      "|     Gold|6367|\n",
      "+---------+----+\n",
      "\n"
     ]
    }
   ],
   "source": [
    "spark.sql('''Select \n",
    "            `Card Type`,\n",
    "            count(1) as cnt\n",
    "          from transactions\n",
    "          Group by 1\n",
    "          order by cnt desc\n",
    "          ''').show()"
   ]
  },
  {
   "cell_type": "code",
   "execution_count": 25,
   "id": "89bff609-d020-4cec-a238-0642c42ad469",
   "metadata": {},
   "outputs": [
    {
     "name": "stdout",
     "output_type": "stream",
     "text": [
      "+---------+-----+\n",
      "|Card Type|count|\n",
      "+---------+-----+\n",
      "|   Silver| 6840|\n",
      "|Signature| 6447|\n",
      "| Platinum| 6398|\n",
      "|     Gold| 6367|\n",
      "+---------+-----+\n",
      "\n"
     ]
    }
   ],
   "source": [
    "trxns\\\n",
    "    .groupby('Card Type')\\\n",
    "    .count()\\\n",
    "    .sort('count',ascending=False)\\\n",
    "    .show()"
   ]
  },
  {
   "cell_type": "markdown",
   "id": "b6d8ce86-916e-4640-b1aa-80ccb03cef08",
   "metadata": {
    "tags": []
   },
   "source": [
    "#### Exp Type distribution highest to lowest "
   ]
  },
  {
   "cell_type": "code",
   "execution_count": 26,
   "id": "8f9bc9db-a550-4176-9e98-f3267eea0df5",
   "metadata": {},
   "outputs": [
    {
     "name": "stdout",
     "output_type": "stream",
     "text": [
      "+-------------+----+\n",
      "|     Exp Type| cnt|\n",
      "+-------------+----+\n",
      "|         Food|5463|\n",
      "|         Fuel|5257|\n",
      "|        Bills|5078|\n",
      "|Entertainment|4762|\n",
      "|      Grocery|4754|\n",
      "|       Travel| 738|\n",
      "+-------------+----+\n",
      "\n"
     ]
    }
   ],
   "source": [
    "spark.sql('''Select \n",
    "            `Exp Type`,\n",
    "            count(1) as cnt\n",
    "          from transactions\n",
    "          Group by 1\n",
    "          order by cnt desc\n",
    "          ''').show()"
   ]
  },
  {
   "cell_type": "code",
   "execution_count": 27,
   "id": "2e482a13-8d60-425c-9668-7e49c3c383c5",
   "metadata": {},
   "outputs": [
    {
     "name": "stdout",
     "output_type": "stream",
     "text": [
      "+-------------+-----+\n",
      "|     Exp Type|count|\n",
      "+-------------+-----+\n",
      "|         Food| 5463|\n",
      "|         Fuel| 5257|\n",
      "|        Bills| 5078|\n",
      "|Entertainment| 4762|\n",
      "|      Grocery| 4754|\n",
      "|       Travel|  738|\n",
      "+-------------+-----+\n",
      "\n"
     ]
    }
   ],
   "source": [
    "trxns\\\n",
    "    .groupby('Exp Type')\\\n",
    "    .count()\\\n",
    "    .sort('count',ascending=False)\\\n",
    "    .show()"
   ]
  },
  {
   "cell_type": "markdown",
   "id": "80ad780d-8157-486e-8a16-819455a0132e",
   "metadata": {},
   "source": [
    "#### Top 5 city and other card type /gender wise / exp type distribution"
   ]
  },
  {
   "cell_type": "code",
   "execution_count": 28,
   "id": "3afcc7d6-6080-46bb-b6a4-1508cba4ae0f",
   "metadata": {},
   "outputs": [
    {
     "name": "stdout",
     "output_type": "stream",
     "text": [
      "+--------------------+------+----+\n",
      "|                City|Gender|  ct|\n",
      "+--------------------+------+----+\n",
      "|    Ahmedabad, India|     F|1876|\n",
      "|    Ahmedabad, India|     M|1615|\n",
      "|    Bengaluru, India|     M|1592|\n",
      "|    Bengaluru, India|     F|1960|\n",
      "|        Delhi, India|     M|1559|\n",
      "|        Delhi, India|     F|1923|\n",
      "|Greater Mumbai, I...|     F|1922|\n",
      "|Greater Mumbai, I...|     M|1571|\n",
      "|    Hyderabad, India|     F| 389|\n",
      "|    Hyderabad, India|     M| 395|\n",
      "+--------------------+------+----+\n",
      "\n"
     ]
    }
   ],
   "source": [
    "tf=trxns\\\n",
    "    .groupby('City')\\\n",
    "    .count()\\\n",
    "    .withColumnRenamed('count','ct')\\\n",
    "    .sort('ct',ascending=False)\\\n",
    "    .limit(5)\\\n",
    "    .select('City')\\\n",
    "    .collect()\n",
    "\n",
    "tf=[ tf[i][0] for i in range(len(tf))]\n",
    "\n",
    "trxns\\\n",
    "    .filter(trxns.City.isin(tf))\\\n",
    "    .groupby(['City','Gender'])\\\n",
    "    .count()\\\n",
    "    .withColumnRenamed('count','ct')\\\n",
    "    .sort('City')\\\n",
    "    .show()"
   ]
  },
  {
   "cell_type": "code",
   "execution_count": null,
   "id": "fbb65fe9-b0e0-4eb8-a7ce-dc36b2d22d84",
   "metadata": {},
   "outputs": [],
   "source": [
    "from pyspark.sql import functions"
   ]
  },
  {
   "cell_type": "code",
   "execution_count": 29,
   "id": "25a80e0b-19eb-45c5-aefb-b7b218d25708",
   "metadata": {},
   "outputs": [
    {
     "name": "stdout",
     "output_type": "stream",
     "text": [
      "+--------------------+------+-----+\n",
      "|                city|gender|count|\n",
      "+--------------------+------+-----+\n",
      "|    Ahmedabad, India|     M| 1615|\n",
      "|    Ahmedabad, India|     F| 1876|\n",
      "|    Bengaluru, India|     M| 1592|\n",
      "|    Bengaluru, India|     F| 1960|\n",
      "|        Delhi, India|     M| 1559|\n",
      "|        Delhi, India|     F| 1923|\n",
      "|Greater Mumbai, I...|     M| 1571|\n",
      "|Greater Mumbai, I...|     F| 1922|\n",
      "|    Hyderabad, India|     M|  395|\n",
      "|    Hyderabad, India|     F|  389|\n",
      "+--------------------+------+-----+\n",
      "\n"
     ]
    }
   ],
   "source": [
    "spark.sql('''\n",
    "        Select city,gender ,  count(1) as count\n",
    "        from transactions \n",
    "        where  city in (Select city \n",
    "                        from transactions \n",
    "                        group by 1 \n",
    "                        order by count(1) desc \n",
    "                        limit 5)             \n",
    "        group by 1,2 order by 1,2 desc \n",
    "          ''').show()"
   ]
  },
  {
   "cell_type": "code",
   "execution_count": 30,
   "id": "92bbc70c-0eb8-4c30-8d69-eec1708c27ac",
   "metadata": {},
   "outputs": [
    {
     "name": "stdout",
     "output_type": "stream",
     "text": [
      "+--------------------+---------+-----+\n",
      "|                city|Card Type|count|\n",
      "+--------------------+---------+-----+\n",
      "|    Ahmedabad, India|   Silver|  954|\n",
      "|    Ahmedabad, India|Signature|  828|\n",
      "|    Ahmedabad, India| Platinum|  900|\n",
      "|    Ahmedabad, India|     Gold|  809|\n",
      "|    Bengaluru, India|   Silver|  983|\n",
      "|    Bengaluru, India|Signature|  859|\n",
      "|    Bengaluru, India| Platinum|  853|\n",
      "|    Bengaluru, India|     Gold|  857|\n",
      "|        Delhi, India|   Silver|  956|\n",
      "|        Delhi, India|Signature|  872|\n",
      "|        Delhi, India| Platinum|  791|\n",
      "|        Delhi, India|     Gold|  863|\n",
      "|Greater Mumbai, I...|   Silver|  957|\n",
      "|Greater Mumbai, I...|Signature|  820|\n",
      "|Greater Mumbai, I...| Platinum|  868|\n",
      "|Greater Mumbai, I...|     Gold|  848|\n",
      "|    Hyderabad, India|   Silver|  188|\n",
      "|    Hyderabad, India|Signature|  192|\n",
      "|    Hyderabad, India| Platinum|  210|\n",
      "|    Hyderabad, India|     Gold|  194|\n",
      "+--------------------+---------+-----+\n",
      "\n"
     ]
    }
   ],
   "source": [
    "spark.sql('''\n",
    "        Select city,`Card Type` ,  count(1) as count\n",
    "        from transactions \n",
    "        where  city in (Select city \n",
    "                        from transactions \n",
    "                        group by 1 \n",
    "                        order by count(1) desc \n",
    "                        limit 5)             \n",
    "        group by 1,2 order by 1,2 desc \n",
    "          ''').show()"
   ]
  },
  {
   "cell_type": "code",
   "execution_count": 31,
   "id": "92b3e7ed-6b32-4eee-aa61-80d2c4e27407",
   "metadata": {},
   "outputs": [
    {
     "name": "stdout",
     "output_type": "stream",
     "text": [
      "+--------------------+-------------+-----+\n",
      "|                city|     Exp Type|count|\n",
      "+--------------------+-------------+-----+\n",
      "|    Ahmedabad, India|      Grocery|  628|\n",
      "|    Ahmedabad, India|         Fuel|  760|\n",
      "|    Ahmedabad, India|         Food|  801|\n",
      "|    Ahmedabad, India|Entertainment|  622|\n",
      "|    Ahmedabad, India|        Bills|  680|\n",
      "|    Bengaluru, India|      Grocery|  608|\n",
      "|    Bengaluru, India|         Fuel|  780|\n",
      "|    Bengaluru, India|         Food|  805|\n",
      "|    Bengaluru, India|Entertainment|  624|\n",
      "|    Bengaluru, India|        Bills|  735|\n",
      "|        Delhi, India|      Grocery|  621|\n",
      "|        Delhi, India|         Fuel|  782|\n",
      "|        Delhi, India|         Food|  784|\n",
      "|        Delhi, India|Entertainment|  594|\n",
      "|        Delhi, India|        Bills|  701|\n",
      "|Greater Mumbai, I...|      Grocery|  647|\n",
      "|Greater Mumbai, I...|         Fuel|  762|\n",
      "|Greater Mumbai, I...|         Food|  742|\n",
      "|Greater Mumbai, I...|Entertainment|  614|\n",
      "|Greater Mumbai, I...|        Bills|  728|\n",
      "|    Hyderabad, India|       Travel|   99|\n",
      "|    Hyderabad, India|      Grocery|  142|\n",
      "|    Hyderabad, India|         Fuel|  129|\n",
      "|    Hyderabad, India|         Food|  138|\n",
      "|    Hyderabad, India|Entertainment|  134|\n",
      "|    Hyderabad, India|        Bills|  142|\n",
      "+--------------------+-------------+-----+\n",
      "\n"
     ]
    }
   ],
   "source": [
    "spark.sql('''\n",
    "        Select city,`Exp Type` ,  count(1) as count\n",
    "        from transactions \n",
    "        where  city in (Select city \n",
    "                        from transactions \n",
    "                        group by 1 \n",
    "                        order by count(1) desc \n",
    "                        limit 5)             \n",
    "        group by 1,2 order by 1,2 desc \n",
    "          ''').show(50)"
   ]
  },
  {
   "cell_type": "markdown",
   "id": "60ce4ecc-c1a0-478c-9838-558636e138f8",
   "metadata": {},
   "source": [
    "#### Relation of city with amount"
   ]
  },
  {
   "cell_type": "code",
   "execution_count": 66,
   "id": "ee443d3c-a09c-425a-b457-c6928eaf900d",
   "metadata": {},
   "outputs": [
    {
     "name": "stdout",
     "output_type": "stream",
     "text": [
      "+--------------------+----------+----------+------------+------------------+-----+------------------+\n",
      "|                city|min_Amount|max_Amount|Total_Amount|        avg_Amount|count|  skewness(Amount)|\n",
      "+--------------------+----------+----------+------------+------------------+-----+------------------+\n",
      "|    Ahmedabad, India|      1024|    996291|   567794310| 162645.1761672873| 3491|2.2227071785753116|\n",
      "|    Bengaluru, India|      1074|    987935|   572326739|161128.02336711713| 3552|2.0961383067370605|\n",
      "|        Delhi, India|      1005|    996754|   556929212| 159945.2073520965| 3482|2.2995383358307215|\n",
      "|Greater Mumbai, I...|      1056|    998077|   576751476|165116.36873747496| 3493|2.4142239441853044|\n",
      "|    Hyderabad, India|      1070|    299751|   114493477| 146037.5982142857|  784|0.0573801105064027|\n",
      "+--------------------+----------+----------+------------+------------------+-----+------------------+\n",
      "\n"
     ]
    }
   ],
   "source": [
    "spark.sql('''\n",
    "        Select city,min(Amount) min_Amount, max(Amount) max_Amount , sum(Amount) Total_Amount,avg(Amount) avg_Amount,count(1) as count , skewness(Amount)\n",
    "        from transactions \n",
    "        where  city in (Select city \n",
    "                        from transactions \n",
    "                        group by 1 \n",
    "                        order by count(1) desc \n",
    "                        limit 5)             \n",
    "        group by 1 order by 1  \n",
    "          ''').show(50)"
   ]
  },
  {
   "cell_type": "code",
   "execution_count": 64,
   "id": "16844861-242e-451a-9336-8418195c3101",
   "metadata": {},
   "outputs": [
    {
     "name": "stdout",
     "output_type": "stream",
     "text": [
      "+--------------------+----+------+------------+------------------+-----+------------------+\n",
      "|                City| min|   max|Total_Amount|        avg_Amount|count|  skewness(Amount)|\n",
      "+--------------------+----+------+------------+------------------+-----+------------------+\n",
      "|    Ahmedabad, India|1024|996291|   567794310| 162645.1761672873| 3491|2.2227071785753116|\n",
      "|    Bengaluru, India|1074|987935|   572326739|161128.02336711713| 3552|2.0961383067370605|\n",
      "|        Delhi, India|1005|996754|   556929212| 159945.2073520965| 3482|2.2995383358307215|\n",
      "|Greater Mumbai, I...|1056|998077|   576751476|165116.36873747496| 3493|2.4142239441853044|\n",
      "|    Hyderabad, India|1070|299751|   114493477| 146037.5982142857|  784|0.0573801105064027|\n",
      "+--------------------+----+------+------------+------------------+-----+------------------+\n",
      "\n"
     ]
    }
   ],
   "source": [
    "tf=trxns\\\n",
    "    .groupby('City')\\\n",
    "    .count()\\\n",
    "    .withColumnRenamed('count','ct')\\\n",
    "    .sort('ct',ascending=False)\\\n",
    "    .limit(5)\\\n",
    "    .select('City')\\\n",
    "    .collect()\n",
    "\n",
    "tf=[ tf[i][0] for i in range(len(tf))]\n",
    "\n",
    "trxns\\\n",
    "    .filter(trxns.City.isin(tf))\\\n",
    "    .groupby(['City'])\\\n",
    "    .agg(functions.min('Amount').alias(\"min\"),\n",
    "                              functions.max('Amount').alias(\"max\"),\n",
    "                              functions.sum('Amount').alias(\"Total_Amount\"), \n",
    "                              functions.mean('Amount').alias(\"avg_Amount\"), #functions.avg('Amount')\n",
    "                              functions.count('Amount').alias(\"count\"),functions.skewness('Amount')\\\n",
    "\n",
    "        )\\\n",
    "    .sort('City')\\\n",
    "    .show()\n"
   ]
  },
  {
   "cell_type": "markdown",
   "id": "176a62a6-692d-4056-b9eb-3dd1bc4fb338",
   "metadata": {
    "tags": []
   },
   "source": [
    "#### Stop Spark"
   ]
  },
  {
   "cell_type": "code",
   "execution_count": 67,
   "id": "0a0978d4-3d59-4c2e-8e8f-f00cd4ef1184",
   "metadata": {},
   "outputs": [],
   "source": [
    "spark.stop()"
   ]
  },
  {
   "cell_type": "code",
   "execution_count": null,
   "id": "ccb3b4bc-7c2a-49b3-8923-74d12f14e9fa",
   "metadata": {},
   "outputs": [],
   "source": []
  }
 ],
 "metadata": {
  "kernelspec": {
   "display_name": "Python 3 (ipykernel)",
   "language": "python",
   "name": "python3"
  },
  "language_info": {
   "codemirror_mode": {
    "name": "ipython",
    "version": 3
   },
   "file_extension": ".py",
   "mimetype": "text/x-python",
   "name": "python",
   "nbconvert_exporter": "python",
   "pygments_lexer": "ipython3",
   "version": "3.9.13"
  }
 },
 "nbformat": 4,
 "nbformat_minor": 5
}
