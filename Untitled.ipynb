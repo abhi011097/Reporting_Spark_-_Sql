{
 "cells": [
  {
   "cell_type": "code",
   "execution_count": null,
   "id": "1532f706-7378-4738-9841-731e6bac405b",
   "metadata": {},
   "outputs": [],
   "source": [
    "import numpy as np \n",
    "import pandas as pd\n",
    "import matplotlib.pyplot as plt\n",
    "import seaborn as sns\n",
    "import warnings\n",
    "import os\n",
    "import math\n",
    "import plotly.express as px\n",
    "import plotly.graph_objects as go\n",
    "from plotly.subplots import make_subplots"
   ]
  },
  {
   "cell_type": "code",
   "execution_count": null,
   "id": "de4d19eb-dd5e-456e-9aeb-cc471f49ab32",
   "metadata": {},
   "outputs": [],
   "source": [
    "df_raw=pd.read_csv(\"/Users/abhi011097/Workspace/Dataset_Analysis/6_Red_Wine_Quality/Dataset/winequality-red.csv\")\n",
    "df=df_raw.copy()"
   ]
  }
 ],
 "metadata": {
  "kernelspec": {
   "display_name": "Python 3 (ipykernel)",
   "language": "python",
   "name": "python3"
  },
  "language_info": {
   "codemirror_mode": {
    "name": "ipython",
    "version": 3
   },
   "file_extension": ".py",
   "mimetype": "text/x-python",
   "name": "python",
   "nbconvert_exporter": "python",
   "pygments_lexer": "ipython3",
   "version": "3.9.13"
  }
 },
 "nbformat": 4,
 "nbformat_minor": 5
}
